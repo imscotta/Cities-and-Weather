{
 "cells": [
  {
   "cell_type": "markdown",
   "metadata": {},
   "source": [
    "# WeatherPy\n",
    "----\n",
    "\n",
    "#### Note\n",
    "* Instructions have been included for each segment. You do not have to follow them exactly, but they are included to help you think through the steps."
   ]
  },
  {
   "cell_type": "code",
   "execution_count": 2,
   "metadata": {
    "scrolled": true
   },
   "outputs": [],
   "source": [
    "# Dependencies and Setup\n",
    "import matplotlib.pyplot as plt\n",
    "import pandas as pd\n",
    "import numpy as np\n",
    "import requests\n",
    "import time\n",
    "from scipy.stats import linregress\n",
    "import json\n",
    "\n",
    "# Import API key\n",
    "from api_keys import weather_api_key\n",
    "from api_keys import g_key\n",
    "\n",
    "# Incorporated citipy to determine city based on latitude and longitude\n",
    "from citipy import citipy\n",
    "\n",
    "# Output File (CSV)\n",
    "output_data_file = \"output_data/cities.csv\"\n",
    "\n",
    "# Range of latitudes and longitudes\n",
    "lat_range = (-90, 90)\n",
    "lng_range = (-180, 180)"
   ]
  },
  {
   "cell_type": "code",
   "execution_count": 3,
   "metadata": {},
   "outputs": [
    {
     "name": "stdout",
     "output_type": "stream",
     "text": [
      "Requirement already satisfied: citipy in /Users/swa/opt/anaconda3/lib/python3.9/site-packages (0.0.5)\n",
      "Requirement already satisfied: kdtree>=0.12 in /Users/swa/opt/anaconda3/lib/python3.9/site-packages (from citipy) (0.16)\n",
      "Note: you may need to restart the kernel to use updated packages.\n"
     ]
    }
   ],
   "source": [
    "pip install citipy"
   ]
  },
  {
   "cell_type": "markdown",
   "metadata": {},
   "source": [
    "## Generate Cities List"
   ]
  },
  {
   "cell_type": "code",
   "execution_count": 4,
   "metadata": {},
   "outputs": [
    {
     "name": "stdout",
     "output_type": "stream",
     "text": [
      "605\n"
     ]
    }
   ],
   "source": [
    "# List for holding lat_lngs and cities\n",
    "lat_lngs = []\n",
    "cities = []\n",
    "countries = []\n",
    "dates = []\n",
    "coordinates =[]\n",
    "\n",
    "# Create a set of random lat and lng combinations\n",
    "lats = np.random.uniform(lat_range[0], lat_range[1], size=1500)\n",
    "lngs = np.random.uniform(lng_range[0], lng_range[1], size=1500)\n",
    "lat_lngs = zip(lats, lngs)\n",
    "\n",
    "# Identify nearest city for each lat, lng combination\n",
    "for lat_lng in lat_lngs:\n",
    "    city = citipy.nearest_city(lat_lng[0], lat_lng[1]).city_name\n",
    "    # Grab the country code with the city name\n",
    "    country = citipy.nearest_city(lat_lng[0], lat_lng[1]).country_code\n",
    "    \n",
    "    # If the city is unique, then add it to a our cities list\n",
    "    if city not in cities:\n",
    "        cities.append(city)\n",
    "        # Add the country code to a list\n",
    "        countries.append(country)\n",
    "        # Add coordinates to a list that corresponds with the cities\n",
    "        coordinates.append(lat_lng)\n",
    "        \n",
    "# Print the city count to confirm sufficient count\n",
    "print(len(cities))"
   ]
  },
  {
   "cell_type": "markdown",
   "metadata": {},
   "source": [
    "### Perform API Calls\n",
    "* Perform a weather check on each city using a series of successive API calls.\n",
    "* Include a print log of each city as it's being processed (with the city number and city name).\n"
   ]
  },
  {
   "cell_type": "code",
   "execution_count": 17,
   "metadata": {
    "scrolled": false
   },
   "outputs": [
    {
     "name": "stdout",
     "output_type": "stream",
     "text": [
      "Currently checking the weather for strezhevoy, RU\n",
      "Currently checking the weather for port alfred, ZA\n",
      "Currently checking the weather for tura, RU\n",
      "Currently checking the weather for hilo, US\n",
      "Currently checking the weather for itaituba, BR\n",
      "Currently checking the weather for ushuaia, AR\n",
      "Currently checking the weather for avera, PF\n",
      "Currently checking the weather for punta arenas, CL\n",
      "Currently checking the weather for do gonbadan, IR\n",
      "Currently checking the weather for waipawa, NZ\n",
      "Currently checking the weather for leh, IN\n",
      "Currently checking the weather for bedford, US\n",
      "Currently checking the weather for tarrafal, CV\n",
      "Currently checking the weather for catemaco, MX\n",
      "Currently checking the weather for busselton, AU\n",
      "Currently checking the weather for vila franca do campo, PT\n",
      "Currently checking the weather for albany, AU\n",
      "Currently checking the weather for barentsburg, SJ\n",
      "Currently checking the weather for ogulin, HR\n",
      "Currently checking the weather for adeje, ES\n",
      "Currently checking the weather for danjiangkou, CN\n",
      "Currently checking the weather for lompoc, US\n",
      "Currently checking the weather for rikitea, PF\n",
      "Currently checking the weather for bredasdorp, ZA\n",
      "Currently checking the weather for rocha, UY\n",
      "Currently checking the weather for comodoro rivadavia, AR\n",
      "Currently checking the weather for fatezh, RU\n",
      "Currently checking the weather for sakakah, SA\n",
      "Currently checking the weather for bamnet narong, TH\n",
      "Currently checking the weather for khatanga, RU\n",
      "Currently checking the weather for illoqqortoormiut, GL\n",
      "Currently checking the weather for vrede, ZA\n",
      "Currently checking the weather for mattru, SL\n",
      "Currently checking the weather for jamestown, SH\n",
      "Currently checking the weather for sentyabrskiy, RU\n",
      "Currently checking the weather for marawi, SD\n",
      "Currently checking the weather for bengkulu, ID\n",
      "Currently checking the weather for port lincoln, AU\n",
      "Currently checking the weather for belmonte, BR\n",
      "Currently checking the weather for kavaratti, IN\n",
      "Currently checking the weather for cherskiy, RU\n",
      "Currently checking the weather for poum, NC\n",
      "Currently checking the weather for esperance, AU\n",
      "Currently checking the weather for tapia, PH\n",
      "Currently checking the weather for namibe, AO\n",
      "Currently checking the weather for saint-georges, GF\n",
      "Currently checking the weather for nikolskoye, RU\n",
      "Currently checking the weather for tuktoyaktuk, CA\n",
      "Currently checking the weather for chuy, UY\n",
      "Currently checking the weather for ixtapa, MX\n",
      "Currently checking the weather for saint-philippe, RE\n",
      "Currently checking the weather for mataura, PF\n",
      "Currently checking the weather for taunggyi, MM\n",
      "Currently checking the weather for new norfolk, AU\n",
      "Currently checking the weather for kodiak, US\n",
      "Currently checking the weather for amderma, RU\n",
      "Currently checking the weather for eskasem, AF\n",
      "Currently checking the weather for yertarskiy, RU\n",
      "Currently checking the weather for mount gambier, AU\n",
      "Currently checking the weather for alofi, NU\n",
      "Currently checking the weather for cape town, ZA\n",
      "Currently checking the weather for waingapu, ID\n",
      "Currently checking the weather for diego de almagro, CL\n",
      "Currently checking the weather for pevek, RU\n",
      "Currently checking the weather for codrington, AG\n",
      "Currently checking the weather for atuona, PF\n",
      "Currently checking the weather for camopi, GF\n",
      "Currently checking the weather for fereydun kenar, IR\n",
      "Currently checking the weather for portland, AU\n",
      "Currently checking the weather for qaanaaq, GL\n",
      "Currently checking the weather for tipperary, IE\n",
      "Currently checking the weather for vaini, TO\n",
      "Currently checking the weather for aflu, DZ\n",
      "Currently checking the weather for saurimo, AO\n",
      "Currently checking the weather for funza, CO\n",
      "Currently checking the weather for pisco, PE\n",
      "Currently checking the weather for olafsvik, IS\n",
      "Currently checking the weather for mpika, ZM\n",
      "Currently checking the weather for saskylakh, RU\n",
      "Currently checking the weather for beloha, MG\n",
      "Currently checking the weather for bilibino, RU\n",
      "Currently checking the weather for barrow, US\n",
      "Currently checking the weather for taolanaro, MG\n",
      "Currently checking the weather for thompson, CA\n",
      "Currently checking the weather for butaritari, KI\n",
      "Currently checking the weather for bacungan, PH\n",
      "Currently checking the weather for hobart, AU\n",
      "Currently checking the weather for khasan, RU\n",
      "Currently checking the weather for nhulunbuy, AU\n",
      "Currently checking the weather for goderich, SL\n",
      "Currently checking the weather for mjolby, SE\n",
      "Currently checking the weather for pangnirtung, CA\n",
      "Currently checking the weather for hobyo, SO\n",
      "Currently checking the weather for kaduqli, SD\n",
      "Currently checking the weather for bethel, US\n",
      "Currently checking the weather for misratah, LY\n",
      "Currently checking the weather for nizhneyansk, RU\n",
      "Currently checking the weather for tsihombe, MG\n",
      "Currently checking the weather for gumla, IN\n",
      "Currently checking the weather for nelson bay, AU\n",
      "Currently checking the weather for touros, BR\n",
      "Currently checking the weather for port elizabeth, ZA\n",
      "Currently checking the weather for phan thiet, VN\n",
      "Currently checking the weather for chiang klang, TH\n",
      "Currently checking the weather for taltal, CL\n",
      "Currently checking the weather for filadelfia, PY\n",
      "Currently checking the weather for dikson, RU\n",
      "Currently checking the weather for naze, JP\n",
      "Currently checking the weather for samarai, PG\n",
      "Currently checking the weather for tiksi, RU\n",
      "Currently checking the weather for kapaa, US\n",
      "Currently checking the weather for avarua, CK\n",
      "Currently checking the weather for belushya guba, RU\n",
      "Currently checking the weather for leningradskiy, RU\n",
      "Currently checking the weather for bambous virieux, MU\n",
      "Currently checking the weather for san ramon, BO\n",
      "Currently checking the weather for port hawkesbury, CA\n",
      "Currently checking the weather for gat, LY\n",
      "Currently checking the weather for arraial do cabo, BR\n",
      "Currently checking the weather for cesenatico, IT\n",
      "Currently checking the weather for san cristobal, EC\n",
      "Currently checking the weather for hermanus, ZA\n",
      "Currently checking the weather for carnarvon, AU\n",
      "Currently checking the weather for mrirt, MA\n",
      "Currently checking the weather for vaitupu, WF\n",
      "Currently checking the weather for makakilo city, US\n",
      "Currently checking the weather for lamu, KE\n",
      "Currently checking the weather for ribeira grande, PT\n",
      "Currently checking the weather for port hedland, AU\n",
      "Currently checking the weather for port blair, IN\n",
      "Currently checking the weather for sayansk, RU\n",
      "Currently checking the weather for christchurch, NZ\n",
      "Currently checking the weather for sitka, US\n",
      "Currently checking the weather for qandala, SO\n",
      "Currently checking the weather for saint george, BM\n",
      "Currently checking the weather for korla, CN\n",
      "Currently checking the weather for bluff, NZ\n",
      "Currently checking the weather for karratha, AU\n",
      "Currently checking the weather for hithadhoo, MV\n",
      "Currently checking the weather for ponyri, RU\n",
      "Currently checking the weather for vila, VU\n",
      "Currently checking the weather for tiarei, PF\n",
      "Currently checking the weather for mar del plata, AR\n",
      "Currently checking the weather for kamenskoye, RU\n",
      "Currently checking the weather for dingle, IE\n",
      "Currently checking the weather for mys shmidta, RU\n",
      "Currently checking the weather for san andres, CO\n",
      "Currently checking the weather for sistranda, NO\n",
      "Currently checking the weather for tambo grande, PE\n",
      "Currently checking the weather for san patricio, MX\n",
      "Currently checking the weather for balkanabat, TM\n",
      "Currently checking the weather for grand river south east, MU\n",
      "Currently checking the weather for necochea, AR\n",
      "Currently checking the weather for stephenville, US\n",
      "Currently checking the weather for provideniya, RU\n",
      "Currently checking the weather for salalah, OM\n",
      "Currently checking the weather for toumba, GR\n",
      "Currently checking the weather for clyde river, CA\n",
      "Currently checking the weather for kuche, CN\n",
      "Currently checking the weather for castro, CL\n",
      "Currently checking the weather for yulara, AU\n",
      "Currently checking the weather for lavrentiya, RU\n",
      "Currently checking the weather for tual, ID\n",
      "Currently checking the weather for talakan, RU\n",
      "Currently checking the weather for greymouth, NZ\n",
      "Currently checking the weather for quatre cocos, MU\n",
      "Currently checking the weather for sao joao da barra, BR\n",
      "Currently checking the weather for sorland, NO\n",
      "Currently checking the weather for yellowknife, CA\n"
     ]
    },
    {
     "name": "stdout",
     "output_type": "stream",
     "text": [
      "Currently checking the weather for eenhana, NA\n",
      "Currently checking the weather for east london, ZA\n",
      "Currently checking the weather for puerto ayora, EC\n",
      "Currently checking the weather for mahebourg, MU\n",
      "Currently checking the weather for oktyabrskoye, RU\n",
      "Currently checking the weather for lebu, CL\n",
      "Currently checking the weather for staunton, US\n",
      "Currently checking the weather for beruwala, LK\n",
      "Currently checking the weather for vila do maio, CV\n",
      "Currently checking the weather for manaure, CO\n",
      "Currently checking the weather for sandila, IN\n",
      "Currently checking the weather for kalmunai, LK\n",
      "Currently checking the weather for novyy urgal, RU\n",
      "Currently checking the weather for amarante do maranhao, BR\n",
      "Currently checking the weather for chokurdakh, RU\n",
      "Currently checking the weather for cabo san lucas, MX\n",
      "Currently checking the weather for hamilton, BM\n",
      "Currently checking the weather for santa isabel do rio negro, BR\n",
      "Currently checking the weather for urumqi, CN\n",
      "Currently checking the weather for inhambane, MZ\n",
      "Currently checking the weather for lolua, TV\n",
      "Currently checking the weather for mana, GF\n",
      "Currently checking the weather for souillac, MU\n",
      "Currently checking the weather for kokstad, ZA\n",
      "Currently checking the weather for dwarka, IN\n",
      "Currently checking the weather for burica, PA\n",
      "Currently checking the weather for samusu, WS\n",
      "Currently checking the weather for saint-francois, GP\n",
      "Currently checking the weather for dubrovka, RU\n",
      "Currently checking the weather for yeniseysk, RU\n",
      "Currently checking the weather for palabuhanratu, ID\n",
      "Currently checking the weather for sao filipe, CV\n",
      "Currently checking the weather for male, MV\n",
      "Currently checking the weather for barahona, DO\n",
      "Currently checking the weather for madras, IN\n",
      "Currently checking the weather for bonavista, CA\n",
      "Currently checking the weather for goulburn, AU\n",
      "Currently checking the weather for saint-augustin, CA\n",
      "Currently checking the weather for libreville, GA\n",
      "Currently checking the weather for moussoro, TD\n",
      "Currently checking the weather for luderitz, NA\n",
      "Currently checking the weather for sao bento do sul, BR\n",
      "Currently checking the weather for ferkessedougou, CI\n",
      "Currently checking the weather for belyy yar, RU\n",
      "Currently checking the weather for brasilia, BR\n",
      "Currently checking the weather for mitsamiouli, KM\n",
      "Currently checking the weather for meulaboh, ID\n",
      "Currently checking the weather for klaksvik, FO\n",
      "Currently checking the weather for vao, NC\n",
      "Currently checking the weather for chicama, PE\n",
      "Currently checking the weather for husavik, IS\n",
      "Currently checking the weather for lethem, GY\n",
      "Currently checking the weather for geraldton, AU\n",
      "Currently checking the weather for san jeronimo, MX\n",
      "Currently checking the weather for ilulissat, GL\n",
      "Currently checking the weather for fortuna, US\n",
      "Currently checking the weather for sawakin, SD\n",
      "Currently checking the weather for xiaoweizhai, CN\n",
      "Currently checking the weather for tommot, RU\n",
      "Currently checking the weather for iskateley, RU\n",
      "Currently checking the weather for ahipara, NZ\n",
      "Currently checking the weather for russell, NZ\n",
      "Currently checking the weather for quepos, CR\n",
      "Currently checking the weather for georgetown, SH\n",
      "Currently checking the weather for ancud, CL\n",
      "Currently checking the weather for torbay, CA\n",
      "Currently checking the weather for buariki, KI\n",
      "Currently checking the weather for charyshskoye, RU\n",
      "Currently checking the weather for ostrovnoy, RU\n",
      "Currently checking the weather for fairbanks, US\n",
      "Currently checking the weather for pangody, RU\n",
      "Currently checking the weather for tilichiki, RU\n",
      "Currently checking the weather for fort nelson, CA\n",
      "Currently checking the weather for makaryev, RU\n",
      "Currently checking the weather for omboue, GA\n",
      "Currently checking the weather for tuatapere, NZ\n",
      "Currently checking the weather for mathathane, BW\n",
      "Currently checking the weather for upernavik, GL\n",
      "Currently checking the weather for severo-kurilsk, RU\n",
      "Currently checking the weather for vanimo, PG\n",
      "Currently checking the weather for huarmey, PE\n",
      "Currently checking the weather for kaitangata, NZ\n",
      "Currently checking the weather for saleaula, WS\n",
      "Currently checking the weather for cowansville, CA\n",
      "Currently checking the weather for kununurra, AU\n",
      "Currently checking the weather for aljezur, PT\n",
      "Currently checking the weather for ji-parana, BR\n",
      "Currently checking the weather for mullaitivu, LK\n",
      "Currently checking the weather for padang, ID\n",
      "Currently checking the weather for luwuk, ID\n",
      "Currently checking the weather for prince rupert, CA\n",
      "Currently checking the weather for alyangula, AU\n",
      "Currently checking the weather for tayu, ID\n",
      "Currently checking the weather for clausthal-zellerfeld, DE\n",
      "Currently checking the weather for asyut, EG\n",
      "Currently checking the weather for moree, AU\n",
      "Currently checking the weather for jiddah, SA\n",
      "Currently checking the weather for nawa, SY\n",
      "Currently checking the weather for viransehir, TR\n",
      "Currently checking the weather for longyearbyen, SJ\n",
      "Currently checking the weather for taoudenni, ML\n",
      "Currently checking the weather for anshun, CN\n",
      "Currently checking the weather for dujuma, SO\n",
      "Currently checking the weather for springdale, CA\n",
      "Currently checking the weather for broome, AU\n",
      "Currently checking the weather for abu dhabi, AE\n",
      "Currently checking the weather for lyubech, UA\n",
      "Currently checking the weather for dunedin, NZ\n",
      "Currently checking the weather for koumac, NC\n",
      "Currently checking the weather for calbuco, CL\n",
      "Currently checking the weather for gweta, BW\n",
      "Currently checking the weather for luoyang, CN\n",
      "Currently checking the weather for kipini, KE\n",
      "Currently checking the weather for cidreira, BR\n",
      "Currently checking the weather for lena, ES\n",
      "Currently checking the weather for marzuq, LY\n",
      "Currently checking the weather for bud, NO\n",
      "Currently checking the weather for neiafu, TO\n",
      "Currently checking the weather for kirakira, SB\n",
      "Currently checking the weather for oarai, JP\n",
      "Currently checking the weather for tigil, RU\n",
      "Currently checking the weather for talnakh, RU\n",
      "Currently checking the weather for burley, US\n",
      "Currently checking the weather for sur, OM\n",
      "Currently checking the weather for paita, PE\n",
      "Currently checking the weather for oxilithos, GR\n",
      "Currently checking the weather for bam, IR\n",
      "Currently checking the weather for pacifica, US\n",
      "Currently checking the weather for airai, PW\n",
      "Currently checking the weather for dzilam gonzalez, MX\n",
      "Currently checking the weather for qaqortoq, GL\n",
      "Currently checking the weather for lagoa, PT\n",
      "Currently checking the weather for riachao do jacuipe, BR\n",
      "Currently checking the weather for kambove, CD\n",
      "Currently checking the weather for saldanha, ZA\n",
      "Currently checking the weather for kidal, ML\n",
      "Currently checking the weather for kahului, US\n",
      "Currently checking the weather for kovdor, RU\n",
      "Currently checking the weather for amarpur, IN\n",
      "Currently checking the weather for narsaq, GL\n",
      "Currently checking the weather for san quintin, MX\n",
      "Currently checking the weather for bathsheba, BB\n",
      "Currently checking the weather for pahrump, US\n",
      "Currently checking the weather for hasaki, JP\n",
      "Currently checking the weather for ambilobe, MG\n",
      "Currently checking the weather for toliary, MG\n",
      "Currently checking the weather for marsa matruh, EG\n",
      "Currently checking the weather for skiros, GR\n",
      "Currently checking the weather for kibondo, TZ\n",
      "Currently checking the weather for lawton, US\n",
      "Currently checking the weather for barranca, PE\n",
      "Currently checking the weather for guerrero negro, MX\n",
      "Currently checking the weather for santa maria, CV\n",
      "Currently checking the weather for lumberton, US\n",
      "Currently checking the weather for port augusta, AU\n",
      "Currently checking the weather for tasiilaq, GL\n",
      "Currently checking the weather for culaman, PH\n",
      "Currently checking the weather for bay roberts, CA\n",
      "Currently checking the weather for lakeside, US\n",
      "Currently checking the weather for fukue, JP\n",
      "Currently checking the weather for dalvik, IS\n",
      "Currently checking the weather for khonuu, RU\n",
      "Currently checking the weather for faanui, PF\n",
      "Currently checking the weather for srednekolymsk, RU\n",
      "Currently checking the weather for grand forks, CA\n",
      "Currently checking the weather for santa cruz cabralia, BR\n",
      "Currently checking the weather for kirkland lake, CA\n",
      "Currently checking the weather for nemuro, JP\n",
      "Currently checking the weather for lasa, CN\n",
      "Currently checking the weather for rajgarh, IN\n"
     ]
    },
    {
     "name": "stdout",
     "output_type": "stream",
     "text": [
      "Currently checking the weather for acapulco, MX\n",
      "Currently checking the weather for vallenar, CL\n",
      "Currently checking the weather for kuytun, CN\n",
      "Currently checking the weather for yumen, CN\n",
      "Currently checking the weather for subaytilah, TN\n",
      "Currently checking the weather for acari, PE\n",
      "Currently checking the weather for hammerfest, NO\n",
      "Currently checking the weather for phrai bung, TH\n",
      "Currently checking the weather for la palma, PA\n",
      "Currently checking the weather for kawalu, ID\n",
      "Currently checking the weather for igrim, RU\n",
      "Currently checking the weather for rena, NO\n",
      "Currently checking the weather for mabaruma, GY\n",
      "Currently checking the weather for galiwinku, AU\n",
      "Currently checking the weather for kodinar, IN\n",
      "Currently checking the weather for bolshoy tsaryn, RU\n",
      "Currently checking the weather for yelizovo, RU\n",
      "Currently checking the weather for oeiras, BR\n",
      "Currently checking the weather for kulykiv, UA\n",
      "Currently checking the weather for zhanatas, KZ\n",
      "Currently checking the weather for tarko-sale, RU\n",
      "Currently checking the weather for khartoum, SD\n",
      "Currently checking the weather for jiangyou, CN\n",
      "Currently checking the weather for flinders, AU\n",
      "Currently checking the weather for roma, AU\n",
      "Currently checking the weather for ngukurr, AU\n",
      "Currently checking the weather for flin flon, CA\n",
      "Currently checking the weather for changji, CN\n",
      "Currently checking the weather for coquimbo, CL\n",
      "Currently checking the weather for muli, MV\n",
      "Currently checking the weather for baykit, RU\n",
      "Currently checking the weather for plaeng yao, TH\n",
      "Currently checking the weather for margate, ZA\n",
      "Currently checking the weather for mtambile, TZ\n",
      "Currently checking the weather for concarneau, FR\n",
      "Currently checking the weather for ishigaki, JP\n",
      "Currently checking the weather for petropavlovsk-kamchatskiy, RU\n",
      "Currently checking the weather for lorengau, PG\n",
      "Currently checking the weather for victoria, SC\n",
      "Currently checking the weather for evensk, RU\n",
      "Currently checking the weather for marakkanam, IN\n",
      "Currently checking the weather for kondinskoye, RU\n",
      "Currently checking the weather for kota kinabalu, MY\n",
      "Currently checking the weather for palora, EC\n",
      "Currently checking the weather for kavieng, PG\n",
      "Currently checking the weather for abu jubayhah, SD\n",
      "Currently checking the weather for kaka, TM\n",
      "Currently checking the weather for tamandare, BR\n",
      "Currently checking the weather for matara, LK\n",
      "Currently checking the weather for carballo, ES\n",
      "Currently checking the weather for qui nhon, VN\n",
      "Currently checking the weather for bukama, CD\n",
      "Currently checking the weather for acajutla, SV\n",
      "Currently checking the weather for entebbe, UG\n",
      "Currently checking the weather for cabedelo, BR\n",
      "Currently checking the weather for port hardy, CA\n",
      "Currently checking the weather for graham, US\n",
      "Currently checking the weather for ballina, AU\n",
      "Currently checking the weather for mendahara, ID\n",
      "Currently checking the weather for montrose, US\n",
      "Currently checking the weather for umzimvubu, ZA\n",
      "Currently checking the weather for northam, AU\n",
      "Currently checking the weather for erzin, RU\n",
      "Currently checking the weather for bairiki, KI\n",
      "Currently checking the weather for filingue, NE\n",
      "Currently checking the weather for banff, CA\n",
      "Currently checking the weather for marcona, PE\n",
      "Currently checking the weather for bakel, SN\n",
      "Currently checking the weather for verkhnyaya inta, RU\n",
      "Currently checking the weather for chongwe, ZM\n",
      "Currently checking the weather for progreso, MX\n",
      "Currently checking the weather for egvekinot, RU\n",
      "Currently checking the weather for evanston, US\n",
      "Currently checking the weather for bandraboua, YT\n",
      "Currently checking the weather for yantal, RU\n",
      "Currently checking the weather for isangel, VU\n",
      "Currently checking the weather for gurupi, BR\n",
      "Currently checking the weather for tapaua, BR\n",
      "Currently checking the weather for nizhniy tsasuchey, RU\n",
      "Currently checking the weather for havoysund, NO\n",
      "Currently checking the weather for haines junction, CA\n",
      "Currently checking the weather for ferme-neuve, CA\n",
      "Currently checking the weather for pacific grove, US\n",
      "Currently checking the weather for bac, RS\n",
      "Currently checking the weather for artyom, AZ\n",
      "Currently checking the weather for goundam, ML\n",
      "Currently checking the weather for yarim, YE\n",
      "Currently checking the weather for kiama, AU\n",
      "Currently checking the weather for zhuhai, CN\n",
      "Currently checking the weather for kruisfontein, ZA\n",
      "Currently checking the weather for kabompo, ZM\n",
      "Currently checking the weather for bose, CN\n",
      "Currently checking the weather for sibolga, ID\n",
      "Currently checking the weather for izhma, RU\n",
      "Currently checking the weather for mangrol, IN\n",
      "Currently checking the weather for broken hill, AU\n",
      "Currently checking the weather for deputatskiy, RU\n",
      "Currently checking the weather for attawapiskat, CA\n",
      "Currently checking the weather for razole, IN\n",
      "Currently checking the weather for pontes e lacerda, BR\n",
      "Currently checking the weather for huaraz, PE\n",
      "Currently checking the weather for sembe, CG\n",
      "Currently checking the weather for maimon, DO\n",
      "Currently checking the weather for nanortalik, GL\n",
      "Currently checking the weather for charagua, BO\n",
      "Currently checking the weather for clarence town, BS\n",
      "Currently checking the weather for ngora, UG\n",
      "Currently checking the weather for qasigiannguit, GL\n",
      "Currently checking the weather for krasnokholmskiy, RU\n",
      "Currently checking the weather for ca mau, VN\n",
      "Currently checking the weather for usak, TR\n",
      "Currently checking the weather for velikie luki, RU\n",
      "Currently checking the weather for gazli, UZ\n",
      "Currently checking the weather for tokonou, GN\n",
      "Currently checking the weather for victoria point, AU\n",
      "Currently checking the weather for aromashevo, RU\n",
      "Currently checking the weather for tokmak, KG\n",
      "Currently checking the weather for witrivier, ZA\n",
      "Currently checking the weather for ottumwa, US\n",
      "Currently checking the weather for ponta do sol, CV\n",
      "Currently checking the weather for lovozero, RU\n",
      "Currently checking the weather for honolulu, US\n",
      "Currently checking the weather for gizo, SB\n",
      "Currently checking the weather for grimari, CF\n",
      "Currently checking the weather for viedma, AR\n",
      "Currently checking the weather for mumford, GH\n",
      "Currently checking the weather for jalu, LY\n",
      "Currently checking the weather for bonthe, SL\n",
      "Currently checking the weather for wajir, KE\n",
      "Currently checking the weather for westport, IE\n",
      "Currently checking the weather for cockburn harbour, TC\n",
      "Currently checking the weather for vestmannaeyjar, IS\n",
      "Currently checking the weather for oktyabrskiy, RU\n",
      "Currently checking the weather for southbridge, NZ\n",
      "Currently checking the weather for tainan, TW\n",
      "Currently checking the weather for the valley, AI\n",
      "Currently checking the weather for sarab, IR\n",
      "Currently checking the weather for la serena, CL\n",
      "Currently checking the weather for hwange, ZW\n",
      "Currently checking the weather for halalo, WF\n",
      "Currently checking the weather for morales, GT\n",
      "Currently checking the weather for ust-tsilma, RU\n",
      "Currently checking the weather for keti bandar, PK\n",
      "Currently checking the weather for novobirilyussy, RU\n",
      "Currently checking the weather for zyryanka, RU\n",
      "Currently checking the weather for praia da vitoria, PT\n",
      "Currently checking the weather for churapcha, RU\n",
      "Currently checking the weather for darlowo, PL\n",
      "Currently checking the weather for eureka, US\n",
      "Currently checking the weather for caravelas, BR\n",
      "Currently checking the weather for tazovskiy, RU\n",
      "Currently checking the weather for mugango, TZ\n",
      "Currently checking the weather for dillon, US\n",
      "Currently checking the weather for carutapera, BR\n",
      "Currently checking the weather for grand gaube, MU\n",
      "Currently checking the weather for tsienyane, BW\n",
      "Currently checking the weather for coihaique, CL\n",
      "Currently checking the weather for sabang, ID\n",
      "Currently checking the weather for puerto colombia, CO\n",
      "Currently checking the weather for sharlyk, RU\n",
      "Currently checking the weather for zhigansk, RU\n",
      "Currently checking the weather for bada, RU\n",
      "Currently checking the weather for malanje, AO\n",
      "Currently checking the weather for kiunga, PG\n",
      "Currently checking the weather for turukhansk, RU\n",
      "Currently checking the weather for windhoek, NA\n",
      "Currently checking the weather for berlevag, NO\n",
      "Currently checking the weather for rockport, US\n",
      "Currently checking the weather for ler, SD\n",
      "Currently checking the weather for natal, BR\n"
     ]
    },
    {
     "name": "stdout",
     "output_type": "stream",
     "text": [
      "Currently checking the weather for muisne, EC\n",
      "Currently checking the weather for beyneu, KZ\n",
      "Currently checking the weather for ukiah, US\n",
      "Currently checking the weather for muzhi, RU\n",
      "Currently checking the weather for colesberg, ZA\n",
      "Currently checking the weather for antofagasta, CL\n",
      "Currently checking the weather for esil, KZ\n",
      "Currently checking the weather for odate, JP\n",
      "Currently checking the weather for trofors, NO\n",
      "Currently checking the weather for biak, ID\n",
      "Currently checking the weather for gombong, ID\n",
      "Currently checking the weather for bosaso, SO\n",
      "Currently checking the weather for okha, RU\n",
      "Currently checking the weather for bargal, SO\n",
      "Currently checking the weather for kapoeta, SD\n",
      "Currently checking the weather for kodinsk, RU\n",
      "Currently checking the weather for rawson, AR\n",
      "Currently checking the weather for alta floresta, BR\n",
      "Currently checking the weather for diglur, IN\n",
      "Currently checking the weather for karia, GR\n",
      "Currently checking the weather for jodhpur, IN\n",
      "Currently checking the weather for verkhnevilyuysk, RU\n",
      "Currently checking the weather for bangassou, CF\n",
      "Currently checking the weather for saint anthony, CA\n",
      "Currently checking the weather for majene, ID\n",
      "Currently checking the weather for soe, ID\n",
      "Currently checking the weather for shahr-e babak, IR\n",
      "Currently checking the weather for atar, MR\n",
      "Currently checking the weather for iralaya, HN\n",
      "Currently checking the weather for zvishavane, ZW\n",
      "Currently checking the weather for chaoyang, CN\n",
      "Currently checking the weather for harper, LR\n",
      "Currently checking the weather for tevriz, RU\n",
      "Currently checking the weather for castanos, MX\n",
      "Currently checking the weather for camacha, PT\n",
      "Currently checking the weather for vardo, NO\n",
      "Currently checking the weather for russkaya polyana, RU\n",
      "Currently checking the weather for lashio, MM\n",
      "Currently checking the weather for mundi, IN\n",
      "Currently checking the weather for georgiyevskoye, RU\n",
      "Currently checking the weather for norman wells, CA\n",
      "Currently checking the weather for takaungu, KE\n",
      "Currently checking the weather for rafiganj, IN\n",
      "Currently checking the weather for kamisu, JP\n",
      "Currently checking the weather for paonta sahib, IN\n",
      "Currently checking the weather for the pas, CA\n",
      "Currently checking the weather for anloga, GH\n",
      "Currently checking the weather for sioux lookout, CA\n",
      "Currently checking the weather for luancheng, CN\n",
      "Currently checking the weather for seoul, KR\n",
      "Currently checking the weather for kazalinsk, KZ\n",
      "Currently checking the weather for moose factory, CA\n",
      "Currently checking the weather for visby, SE\n",
      "Currently checking the weather for susuman, RU\n",
      "Currently checking the weather for sept-iles, CA\n",
      "Currently checking the weather for pemangkat, ID\n",
      "Currently checking the weather for ozernovskiy, RU\n",
      "Currently checking the weather for tabiauea, KI\n",
      "Currently checking the weather for uyovu, TZ\n",
      "Currently checking the weather for nichinan, JP\n",
      "Currently checking the weather for nacala, MZ\n",
      "Currently checking the weather for noumea, NC\n",
      "Currently checking the weather for fort saint james, CA\n",
      "Currently checking the weather for berzence, HU\n",
      "Currently checking the weather for esso, RU\n",
      "Currently checking the weather for monrovia, LR\n",
      "Currently checking the weather for te anau, NZ\n",
      "Currently checking the weather for kysyl-syr, RU\n",
      "Currently checking the weather for katangli, RU\n",
      "Currently checking the weather for cobija, BO\n",
      "Currently checking the weather for kourou, GF\n",
      "Currently checking the weather for feicheng, CN\n",
      "Currently checking the weather for wanxian, CN\n",
      "Currently checking the weather for one hundred mile house, CA\n",
      "Currently checking the weather for antigonish, CA\n",
      "Currently checking the weather for maceio, BR\n",
      "Currently checking the weather for ponnani, IN\n",
      "Currently checking the weather for turan, RU\n",
      "Currently checking the weather for anadyr, RU\n",
      "Currently checking the weather for dzhusaly, KZ\n",
      "Currently checking the weather for trogir, HR\n",
      "Currently checking the weather for pionerskiy, RU\n",
      "Currently checking the weather for batagay, RU\n",
      "Currently checking the weather for urengoy, RU\n",
      "Currently checking the weather for katsuura, JP\n",
      "Currently checking the weather for vung tau, VN\n",
      "Currently checking the weather for bandar-e lengeh, IR\n",
      "Currently checking the weather for ambodifototra, MG\n",
      "Currently checking the weather for north bend, US\n",
      "Currently checking the weather for lata, SB\n",
      "Currently checking the weather for bur gabo, SO\n",
      "Currently checking the weather for zaltan, LY\n",
      "Currently checking the weather for tucuman, AR\n",
      "Currently checking the weather for trapani, IT\n",
      "Currently checking the weather for quelimane, MZ\n",
      "Currently checking the weather for sambava, MG\n"
     ]
    },
    {
     "data": {
      "text/html": [
       "<div>\n",
       "<style scoped>\n",
       "    .dataframe tbody tr th:only-of-type {\n",
       "        vertical-align: middle;\n",
       "    }\n",
       "\n",
       "    .dataframe tbody tr th {\n",
       "        vertical-align: top;\n",
       "    }\n",
       "\n",
       "    .dataframe thead th {\n",
       "        text-align: right;\n",
       "    }\n",
       "</style>\n",
       "<table border=\"1\" class=\"dataframe\">\n",
       "  <thead>\n",
       "    <tr style=\"text-align: right;\">\n",
       "      <th></th>\n",
       "      <th>City</th>\n",
       "      <th>Lat</th>\n",
       "      <th>Lng</th>\n",
       "      <th>Max Temp</th>\n",
       "      <th>Humidity</th>\n",
       "      <th>Cloudliness</th>\n",
       "      <th>Wind Speed</th>\n",
       "      <th>Country</th>\n",
       "      <th>Date</th>\n",
       "    </tr>\n",
       "  </thead>\n",
       "  <tbody>\n",
       "    <tr>\n",
       "      <th>0</th>\n",
       "      <td>Strezhevoy</td>\n",
       "      <td>60.732758</td>\n",
       "      <td>77.600807</td>\n",
       "      <td>25.59</td>\n",
       "      <td>77.0</td>\n",
       "      <td>0.0</td>\n",
       "      <td>1.99</td>\n",
       "      <td>RU</td>\n",
       "      <td>1.651379e+09</td>\n",
       "    </tr>\n",
       "    <tr>\n",
       "      <th>2</th>\n",
       "      <td>Port alfred</td>\n",
       "      <td>-33.598184</td>\n",
       "      <td>26.891477</td>\n",
       "      <td>56.05</td>\n",
       "      <td>83.0</td>\n",
       "      <td>1.0</td>\n",
       "      <td>1.99</td>\n",
       "      <td>ZA</td>\n",
       "      <td>1.651361e+09</td>\n",
       "    </tr>\n",
       "    <tr>\n",
       "      <th>3</th>\n",
       "      <td>Tura</td>\n",
       "      <td>64.274196</td>\n",
       "      <td>100.216964</td>\n",
       "      <td>23.56</td>\n",
       "      <td>75.0</td>\n",
       "      <td>97.0</td>\n",
       "      <td>4.18</td>\n",
       "      <td>RU</td>\n",
       "      <td>1.651379e+09</td>\n",
       "    </tr>\n",
       "    <tr>\n",
       "      <th>4</th>\n",
       "      <td>Hilo</td>\n",
       "      <td>19.707373</td>\n",
       "      <td>-155.081580</td>\n",
       "      <td>78.19</td>\n",
       "      <td>80.0</td>\n",
       "      <td>100.0</td>\n",
       "      <td>5.75</td>\n",
       "      <td>US</td>\n",
       "      <td>1.651318e+09</td>\n",
       "    </tr>\n",
       "    <tr>\n",
       "      <th>5</th>\n",
       "      <td>Itaituba</td>\n",
       "      <td>-4.262522</td>\n",
       "      <td>-55.987814</td>\n",
       "      <td>87.85</td>\n",
       "      <td>66.0</td>\n",
       "      <td>40.0</td>\n",
       "      <td>3.44</td>\n",
       "      <td>BR</td>\n",
       "      <td>1.651343e+09</td>\n",
       "    </tr>\n",
       "    <tr>\n",
       "      <th>...</th>\n",
       "      <td>...</td>\n",
       "      <td>...</td>\n",
       "      <td>...</td>\n",
       "      <td>...</td>\n",
       "      <td>...</td>\n",
       "      <td>...</td>\n",
       "      <td>...</td>\n",
       "      <td>...</td>\n",
       "      <td>...</td>\n",
       "    </tr>\n",
       "    <tr>\n",
       "      <th>600</th>\n",
       "      <td>Zaltan</td>\n",
       "      <td>32.946146</td>\n",
       "      <td>11.866804</td>\n",
       "      <td>64.17</td>\n",
       "      <td>78.0</td>\n",
       "      <td>3.0</td>\n",
       "      <td>24.92</td>\n",
       "      <td>LY</td>\n",
       "      <td>1.651362e+09</td>\n",
       "    </tr>\n",
       "    <tr>\n",
       "      <th>602</th>\n",
       "      <td>Tucuman</td>\n",
       "      <td>-26.830370</td>\n",
       "      <td>-65.203813</td>\n",
       "      <td>60.84</td>\n",
       "      <td>77.0</td>\n",
       "      <td>100.0</td>\n",
       "      <td>8.05</td>\n",
       "      <td>AR</td>\n",
       "      <td>1.651344e+09</td>\n",
       "    </tr>\n",
       "    <tr>\n",
       "      <th>603</th>\n",
       "      <td>Trapani</td>\n",
       "      <td>38.017432</td>\n",
       "      <td>12.515992</td>\n",
       "      <td>61.92</td>\n",
       "      <td>82.0</td>\n",
       "      <td>0.0</td>\n",
       "      <td>3.44</td>\n",
       "      <td>IT</td>\n",
       "      <td>1.651362e+09</td>\n",
       "    </tr>\n",
       "    <tr>\n",
       "      <th>604</th>\n",
       "      <td>Quelimane</td>\n",
       "      <td>-17.877510</td>\n",
       "      <td>36.890216</td>\n",
       "      <td>73.35</td>\n",
       "      <td>88.0</td>\n",
       "      <td>0.0</td>\n",
       "      <td>2.30</td>\n",
       "      <td>MZ</td>\n",
       "      <td>1.651362e+09</td>\n",
       "    </tr>\n",
       "    <tr>\n",
       "      <th>605</th>\n",
       "      <td>Sambava</td>\n",
       "      <td>-14.254956</td>\n",
       "      <td>50.155653</td>\n",
       "      <td>74.37</td>\n",
       "      <td>91.0</td>\n",
       "      <td>21.0</td>\n",
       "      <td>7.78</td>\n",
       "      <td>MG</td>\n",
       "      <td>1.651366e+09</td>\n",
       "    </tr>\n",
       "  </tbody>\n",
       "</table>\n",
       "<p>557 rows × 9 columns</p>\n",
       "</div>"
      ],
      "text/plain": [
       "            City        Lat         Lng  Max Temp  Humidity  Cloudliness  \\\n",
       "0     Strezhevoy  60.732758   77.600807     25.59      77.0          0.0   \n",
       "2    Port alfred -33.598184   26.891477     56.05      83.0          1.0   \n",
       "3           Tura  64.274196  100.216964     23.56      75.0         97.0   \n",
       "4           Hilo  19.707373 -155.081580     78.19      80.0        100.0   \n",
       "5       Itaituba  -4.262522  -55.987814     87.85      66.0         40.0   \n",
       "..           ...        ...         ...       ...       ...          ...   \n",
       "600       Zaltan  32.946146   11.866804     64.17      78.0          3.0   \n",
       "602      Tucuman -26.830370  -65.203813     60.84      77.0        100.0   \n",
       "603      Trapani  38.017432   12.515992     61.92      82.0          0.0   \n",
       "604    Quelimane -17.877510   36.890216     73.35      88.0          0.0   \n",
       "605      Sambava -14.254956   50.155653     74.37      91.0         21.0   \n",
       "\n",
       "     Wind Speed Country          Date  \n",
       "0          1.99      RU  1.651379e+09  \n",
       "2          1.99      ZA  1.651361e+09  \n",
       "3          4.18      RU  1.651379e+09  \n",
       "4          5.75      US  1.651318e+09  \n",
       "5          3.44      BR  1.651343e+09  \n",
       "..          ...     ...           ...  \n",
       "600       24.92      LY  1.651362e+09  \n",
       "602        8.05      AR  1.651344e+09  \n",
       "603        3.44      IT  1.651362e+09  \n",
       "604        2.30      MZ  1.651362e+09  \n",
       "605        7.78      MG  1.651366e+09  \n",
       "\n",
       "[557 rows x 9 columns]"
      ]
     },
     "metadata": {},
     "output_type": "display_data"
    }
   ],
   "source": [
    "# Create count of cities to increment as we loop through longitude and latitude\n",
    "city_count = 0\n",
    "city_weather_count = 0\n",
    "\n",
    "# Create new data frame for weather api data\n",
    "cities_weather = pd.DataFrame()\n",
    "\n",
    "# Loop through coordinates\n",
    "for coordinate in coordinates:\n",
    "    print(\"Currently checking the weather for \" + cities[city_count] + \", \" + countries[city_count].upper())\n",
    "\n",
    "    # Grab the longitude and latitude\n",
    "#     current_lat = coordinate[0]\n",
    "#     current_long = coordinate[1]  \n",
    "\n",
    "    # Change coordinates to actual coordinates of the city\n",
    "    city_search_url = \"http://api.openweathermap.org/geo/1.0/direct?\"\n",
    "    search_param = cities[city_count].capitalize() + \",\" + countries[city_count].upper()\n",
    "    params = {\n",
    "        \"q\" : search_param,\n",
    "        \"appid\": weather_api_key\n",
    "    }\n",
    "    city_search = requests.get(city_search_url, params=params)\n",
    "    city_data = city_search.json()\n",
    "    \n",
    "#     print(city_data)\n",
    "    \n",
    "    if (city_data != []): \n",
    "        # Grab the longitude and latitude\n",
    "        current_lat = city_data[0]['lat']\n",
    "        current_long = city_data[0]['lon']\n",
    "\n",
    "        # Create the api request\n",
    "        base_url = \"https://api.openweathermap.org/data/2.5/weather?\"\n",
    "        params = {\n",
    "            \"lat\" : current_lat,\n",
    "            \"lon\" : current_long,\n",
    "            \"appid\" : weather_api_key,\n",
    "            \"units\" : \"imperial\"\n",
    "        }\n",
    "        city_weather = requests.get(base_url, params=params)\n",
    "\n",
    "        weather_data = city_weather.json()\n",
    "\n",
    "        # Add the weather data and city data to the city_weather dataframe\n",
    "        cities_weather.loc[city_weather_count, \"City\"] = cities[city_count].capitalize()\n",
    "        cities_weather.loc[city_weather_count, \"Lat\"] = current_lat\n",
    "        cities_weather.loc[city_weather_count, \"Lng\"] = current_long      \n",
    "        cities_weather.loc[city_weather_count, \"Max Temp\"] = weather_data[\"main\"][\"temp_max\"]\n",
    "        cities_weather.loc[city_weather_count, \"Humidity\"] = weather_data[\"main\"][\"humidity\"]\n",
    "        cities_weather.loc[city_weather_count, \"Cloudliness\"] = weather_data[\"clouds\"][\"all\"]\n",
    "        cities_weather.loc[city_weather_count, \"Wind Speed\"] = weather_data[\"wind\"][\"speed\"]\n",
    "        cities_weather.loc[city_weather_count, \"Country\"] = countries[city_count].upper()\n",
    "        current_date = weather_data[\"dt\"] + weather_data[\"timezone\"]\n",
    "        cities_weather.loc[city_weather_count, \"Date\"] = current_date\n",
    "\n",
    "        # Increment the city count\n",
    "        city_count = city_count + 1\n",
    "        city_weather_count = city_count + 1\n",
    "\n",
    "    else:\n",
    "        city_count = city_count + 1\n",
    "        continue\n",
    "\n",
    "# Display the final table of city and weather data\n",
    "display(cities_weather)"
   ]
  },
  {
   "cell_type": "markdown",
   "metadata": {},
   "source": [
    "### Convert Raw Data to DataFrame\n",
    "* Export the city data into a .csv.\n",
    "* Display the DataFrame"
   ]
  },
  {
   "cell_type": "code",
   "execution_count": 18,
   "metadata": {},
   "outputs": [],
   "source": [
    "# Export DataFrame to CSV file\n",
    "import os\n",
    "os.makedirs('Export', exist_ok=True)\n",
    "cities_weather.to_csv('Export/City_Weather.csv')"
   ]
  },
  {
   "cell_type": "code",
   "execution_count": 19,
   "metadata": {},
   "outputs": [
    {
     "data": {
      "text/html": [
       "<div>\n",
       "<style scoped>\n",
       "    .dataframe tbody tr th:only-of-type {\n",
       "        vertical-align: middle;\n",
       "    }\n",
       "\n",
       "    .dataframe tbody tr th {\n",
       "        vertical-align: top;\n",
       "    }\n",
       "\n",
       "    .dataframe thead th {\n",
       "        text-align: right;\n",
       "    }\n",
       "</style>\n",
       "<table border=\"1\" class=\"dataframe\">\n",
       "  <thead>\n",
       "    <tr style=\"text-align: right;\">\n",
       "      <th></th>\n",
       "      <th>Lat</th>\n",
       "      <th>Lng</th>\n",
       "      <th>Max Temp</th>\n",
       "      <th>Humidity</th>\n",
       "      <th>Cloudliness</th>\n",
       "      <th>Wind Speed</th>\n",
       "      <th>Date</th>\n",
       "    </tr>\n",
       "  </thead>\n",
       "  <tbody>\n",
       "    <tr>\n",
       "      <th>count</th>\n",
       "      <td>557.000000</td>\n",
       "      <td>557.000000</td>\n",
       "      <td>557.000000</td>\n",
       "      <td>557.000000</td>\n",
       "      <td>557.000000</td>\n",
       "      <td>557.000000</td>\n",
       "      <td>5.570000e+02</td>\n",
       "    </tr>\n",
       "    <tr>\n",
       "      <th>mean</th>\n",
       "      <td>18.434902</td>\n",
       "      <td>23.311069</td>\n",
       "      <td>61.142370</td>\n",
       "      <td>71.459605</td>\n",
       "      <td>57.574506</td>\n",
       "      <td>7.855224</td>\n",
       "      <td>1.651363e+09</td>\n",
       "    </tr>\n",
       "    <tr>\n",
       "      <th>std</th>\n",
       "      <td>33.502410</td>\n",
       "      <td>89.367352</td>\n",
       "      <td>19.794741</td>\n",
       "      <td>20.990334</td>\n",
       "      <td>38.893328</td>\n",
       "      <td>5.237407</td>\n",
       "      <td>2.055268e+04</td>\n",
       "    </tr>\n",
       "    <tr>\n",
       "      <th>min</th>\n",
       "      <td>-54.806116</td>\n",
       "      <td>-179.413096</td>\n",
       "      <td>1.630000</td>\n",
       "      <td>1.000000</td>\n",
       "      <td>0.000000</td>\n",
       "      <td>0.000000</td>\n",
       "      <td>1.651315e+09</td>\n",
       "    </tr>\n",
       "    <tr>\n",
       "      <th>25%</th>\n",
       "      <td>-9.869322</td>\n",
       "      <td>-57.548270</td>\n",
       "      <td>48.000000</td>\n",
       "      <td>64.000000</td>\n",
       "      <td>20.000000</td>\n",
       "      <td>3.710000</td>\n",
       "      <td>1.651344e+09</td>\n",
       "    </tr>\n",
       "    <tr>\n",
       "      <th>50%</th>\n",
       "      <td>20.518194</td>\n",
       "      <td>30.474108</td>\n",
       "      <td>63.190000</td>\n",
       "      <td>77.000000</td>\n",
       "      <td>70.000000</td>\n",
       "      <td>6.910000</td>\n",
       "      <td>1.651365e+09</td>\n",
       "    </tr>\n",
       "    <tr>\n",
       "      <th>75%</th>\n",
       "      <td>47.575924</td>\n",
       "      <td>97.750000</td>\n",
       "      <td>78.220000</td>\n",
       "      <td>86.000000</td>\n",
       "      <td>99.000000</td>\n",
       "      <td>10.760000</td>\n",
       "      <td>1.651380e+09</td>\n",
       "    </tr>\n",
       "    <tr>\n",
       "      <th>max</th>\n",
       "      <td>77.468636</td>\n",
       "      <td>177.506092</td>\n",
       "      <td>94.960000</td>\n",
       "      <td>100.000000</td>\n",
       "      <td>100.000000</td>\n",
       "      <td>28.500000</td>\n",
       "      <td>1.651401e+09</td>\n",
       "    </tr>\n",
       "  </tbody>\n",
       "</table>\n",
       "</div>"
      ],
      "text/plain": [
       "              Lat         Lng    Max Temp    Humidity  Cloudliness  \\\n",
       "count  557.000000  557.000000  557.000000  557.000000   557.000000   \n",
       "mean    18.434902   23.311069   61.142370   71.459605    57.574506   \n",
       "std     33.502410   89.367352   19.794741   20.990334    38.893328   \n",
       "min    -54.806116 -179.413096    1.630000    1.000000     0.000000   \n",
       "25%     -9.869322  -57.548270   48.000000   64.000000    20.000000   \n",
       "50%     20.518194   30.474108   63.190000   77.000000    70.000000   \n",
       "75%     47.575924   97.750000   78.220000   86.000000    99.000000   \n",
       "max     77.468636  177.506092   94.960000  100.000000   100.000000   \n",
       "\n",
       "       Wind Speed          Date  \n",
       "count  557.000000  5.570000e+02  \n",
       "mean     7.855224  1.651363e+09  \n",
       "std      5.237407  2.055268e+04  \n",
       "min      0.000000  1.651315e+09  \n",
       "25%      3.710000  1.651344e+09  \n",
       "50%      6.910000  1.651365e+09  \n",
       "75%     10.760000  1.651380e+09  \n",
       "max     28.500000  1.651401e+09  "
      ]
     },
     "execution_count": 19,
     "metadata": {},
     "output_type": "execute_result"
    }
   ],
   "source": [
    "#Describe the table of weather data \n",
    "cities_weather.describe()"
   ]
  },
  {
   "cell_type": "markdown",
   "metadata": {},
   "source": [
    "## Inspect the data and remove the cities where the humidity > 100%.\n",
    "----\n",
    "Skip this step if there are no cities that have humidity > 100%. "
   ]
  },
  {
   "cell_type": "code",
   "execution_count": 20,
   "metadata": {},
   "outputs": [],
   "source": [
    "# Select cities with humidity less than or equal to 100\n",
    "cities_weather = cities_weather[cities_weather[\"Humidity\"] <= 100]"
   ]
  },
  {
   "cell_type": "code",
   "execution_count": 21,
   "metadata": {},
   "outputs": [],
   "source": [
    "#  Get the indices of cities that have humidity over 100%.\n"
   ]
  },
  {
   "cell_type": "code",
   "execution_count": 22,
   "metadata": {},
   "outputs": [],
   "source": [
    "# Make a new DataFrame equal to the city data to drop all humidity outliers by index.\n",
    "# Passing \"inplace=False\" will make a copy of the city_data DataFrame, which we call \"clean_city_data\".\n"
   ]
  },
  {
   "cell_type": "code",
   "execution_count": null,
   "metadata": {},
   "outputs": [],
   "source": [
    "\n"
   ]
  },
  {
   "cell_type": "markdown",
   "metadata": {},
   "source": [
    "## Plotting the Data\n",
    "* Use proper labeling of the plots using plot titles (including date of analysis) and axes labels.\n",
    "* Save the plotted figures as .pngs."
   ]
  },
  {
   "cell_type": "markdown",
   "metadata": {},
   "source": [
    "## Latitude vs. Temperature Plot"
   ]
  },
  {
   "cell_type": "code",
   "execution_count": 23,
   "metadata": {
    "scrolled": true
   },
   "outputs": [
    {
     "data": {
      "image/png": "[encoded data removed]",
      "text/plain": [
       "<Figure size 432x288 with 1 Axes>"
      ]
     },
     "metadata": {
      "needs_background": "light"
     },
     "output_type": "display_data"
    }
   ],
   "source": [
    "# Select specified data\n",
    "latitudes = cities_weather[\"Lat\"]\n",
    "temperature_plot = cities_weather[\"Max Temp\"]\n",
    "\n",
    "#Create plot\n",
    "plt.scatter(latitudes, temperature_plot, marker=\"o\", facecolors=\"red\", edgecolors=\"black\")\n",
    "\n",
    "# Create a title, x label, and y label for our chart\n",
    "plt.title(\"Latitude vs. Temperature Plot\")\n",
    "plt.xlabel(\"Latitude\")\n",
    "plt.ylabel(\"Temperature Plot\")\n",
    "\n",
    "plt.show()"
   ]
  },
  {
   "cell_type": "markdown",
   "metadata": {},
   "source": [
    "## Latitude vs. Humidity Plot"
   ]
  },
  {
   "cell_type": "code",
   "execution_count": 24,
   "metadata": {},
   "outputs": [
    {
     "data": {
      "image/png": "[encoded data removed]",
      "text/plain": [
       "<Figure size 432x288 with 1 Axes>"
      ]
     },
     "metadata": {
      "needs_background": "light"
     },
     "output_type": "display_data"
    }
   ],
   "source": [
    "# Select specified data\n",
    "latitudes = cities_weather[\"Lat\"]\n",
    "humidity = cities_weather[\"Humidity\"]\n",
    "\n",
    "#Create plot\n",
    "plt.scatter(latitudes, humidity, marker=\"o\", facecolors=\"red\", edgecolors=\"black\")\n",
    "\n",
    "# Create a title, x label, and y label for our chart\n",
    "plt.title(\"Latitude vs. Humidity Plot\")\n",
    "plt.xlabel(\"Latitude\")\n",
    "plt.ylabel(\"Humidity\")\n",
    "\n",
    "plt.show()"
   ]
  },
  {
   "cell_type": "markdown",
   "metadata": {},
   "source": [
    "## Latitude vs. Cloudiness Plot"
   ]
  },
  {
   "cell_type": "code",
   "execution_count": 25,
   "metadata": {},
   "outputs": [
    {
     "data": {
      "image/png": "[encoded data removed]",
      "text/plain": [
       "<Figure size 432x288 with 1 Axes>"
      ]
     },
     "metadata": {
      "needs_background": "light"
     },
     "output_type": "display_data"
    }
   ],
   "source": [
    "# Select specified data\n",
    "latitudes = cities_weather[\"Lat\"]\n",
    "cloudliness = cities_weather[\"Cloudliness\"]\n",
    "\n",
    "#Create plot\n",
    "plt.scatter(latitudes, cloudliness, marker=\"o\", facecolors=\"red\", edgecolors=\"black\")\n",
    "\n",
    "# Create a title, x label, and y label for our chart\n",
    "plt.title(\"Latitude vs. Cloudliness Plot\")\n",
    "plt.xlabel(\"Latitude\")\n",
    "plt.ylabel(\"Cloudliness\")\n",
    "\n",
    "plt.show()"
   ]
  },
  {
   "cell_type": "markdown",
   "metadata": {},
   "source": [
    "## Latitude vs. Wind Speed Plot"
   ]
  },
  {
   "cell_type": "code",
   "execution_count": 26,
   "metadata": {},
   "outputs": [
    {
     "data": {
      "image/png": "[encoded data removed]",
      "text/plain": [
       "<Figure size 432x288 with 1 Axes>"
      ]
     },
     "metadata": {
      "needs_background": "light"
     },
     "output_type": "display_data"
    }
   ],
   "source": [
    "# Select specified data\n",
    "latitudes = cities_weather[\"Lat\"]\n",
    "wind_speed = cities_weather[\"Wind Speed\"]\n",
    "\n",
    "#Create plot\n",
    "plt.scatter(latitudes, wind_speed, marker=\"o\", facecolors=\"red\", edgecolors=\"black\")\n",
    "\n",
    "# Create a title, x label, and y label for our chart\n",
    "plt.title(\"Latitude vs. Wind Speed Plot\")\n",
    "plt.xlabel(\"Latitude\")\n",
    "plt.ylabel(\"Wind Speed\")\n",
    "\n",
    "plt.show()"
   ]
  },
  {
   "cell_type": "markdown",
   "metadata": {},
   "source": [
    "## Linear Regression"
   ]
  },
  {
   "cell_type": "code",
   "execution_count": 27,
   "metadata": {},
   "outputs": [],
   "source": [
    "# Import scipy for linear regression calculations\n",
    "import scipy.stats as st\n",
    "from scipy import stats\n"
   ]
  },
  {
   "cell_type": "markdown",
   "metadata": {},
   "source": [
    "####  Northern Hemisphere - Max Temp vs. Latitude Linear Regression"
   ]
  },
  {
   "cell_type": "code",
   "execution_count": 28,
   "metadata": {},
   "outputs": [
    {
     "name": "stdout",
     "output_type": "stream",
     "text": [
      "The r-value is -0.6054661986056258\n"
     ]
    },
    {
     "data": {
      "image/png": "[encoded data removed]",
      "text/plain": [
       "<Figure size 432x288 with 1 Axes>"
      ]
     },
     "metadata": {
      "needs_background": "light"
     },
     "output_type": "display_data"
    }
   ],
   "source": [
    "# Select specified data from cities in the Northern Hemisphere\n",
    "nh_cities = cities_weather[cities_weather[\"Lng\"] >= 0]\n",
    "latitudes = nh_cities[\"Lat\"]\n",
    "temperature_plot = nh_cities[\"Max Temp\"]\n",
    "\n",
    "#Calculate linear regression\n",
    "cities_slope, cities_int, cities_r, cities_p, cities_std_err = stats.linregress(latitudes, temperature_plot)\n",
    "cities_fit = cities_slope * latitudes + cities_int\n",
    "\n",
    "#Plot the data\n",
    "plt.scatter(latitudes, temperature_plot, marker=\"o\", facecolors=\"red\", edgecolors=\"black\")\n",
    "plt.plot(latitudes,cities_fit,\"--\")\n",
    "\n",
    "# Create a title, x label, and y label for our chart\n",
    "plt.title(\"Northern Hemisphere - Max Temp vs. Latitude\")\n",
    "plt.xlabel(\"Latitude\")\n",
    "plt.ylabel(\"Max Temp\")\n",
    "\n",
    "# Display the r value\n",
    "print(\"The r-value is \" + str(cities_r))\n",
    "\n",
    "plt.show()\n"
   ]
  },
  {
   "cell_type": "markdown",
   "metadata": {},
   "source": [
    "####  Southern Hemisphere - Max Temp vs. Latitude Linear Regression"
   ]
  },
  {
   "cell_type": "code",
   "execution_count": 29,
   "metadata": {},
   "outputs": [
    {
     "name": "stdout",
     "output_type": "stream",
     "text": [
      "The r-value is -0.49438589668707866\n"
     ]
    },
    {
     "data": {
      "image/png": "[encoded data removed]",
      "text/plain": [
       "<Figure size 432x288 with 1 Axes>"
      ]
     },
     "metadata": {
      "needs_background": "light"
     },
     "output_type": "display_data"
    }
   ],
   "source": [
    "# Select specified data from cities in the Southern Hemisphere\n",
    "sh_cities = cities_weather[cities_weather[\"Lng\"] <= 0]\n",
    "latitudes = sh_cities[\"Lat\"]\n",
    "temperature_plot = sh_cities[\"Max Temp\"]\n",
    "\n",
    "#Calculate linear regression\n",
    "cities_slope, cities_int, cities_r, cities_p, cities_std_err = stats.linregress(latitudes, temperature_plot)\n",
    "cities_fit = cities_slope * latitudes + cities_int\n",
    "\n",
    "#Plot the data\n",
    "plt.scatter(latitudes, temperature_plot, marker=\"o\", facecolors=\"red\", edgecolors=\"black\")\n",
    "plt.plot(latitudes,cities_fit,\"--\")\n",
    "\n",
    "# Create a title, x label, and y label for our chart\n",
    "plt.title(\"Southern Hemisphere - Max Temp vs. Latitude\")\n",
    "plt.xlabel(\"Latitude\")\n",
    "plt.ylabel(\"Max Temp\")\n",
    "\n",
    "# Display the r value\n",
    "print(\"The r-value is \" + str(cities_r))\n",
    "\n",
    "plt.show()"
   ]
  },
  {
   "cell_type": "markdown",
   "metadata": {},
   "source": [
    "####  Northern Hemisphere - Humidity (%) vs. Latitude Linear Regression"
   ]
  },
  {
   "cell_type": "code",
   "execution_count": 30,
   "metadata": {},
   "outputs": [
    {
     "name": "stdout",
     "output_type": "stream",
     "text": [
      "The r-value is -0.06267199414655814\n"
     ]
    },
    {
     "data": {
      "image/png": "[encoded data removed]",
      "text/plain": [
       "<Figure size 432x288 with 1 Axes>"
      ]
     },
     "metadata": {
      "needs_background": "light"
     },
     "output_type": "display_data"
    }
   ],
   "source": [
    "# Select specified data\n",
    "latitudes = nh_cities[\"Lat\"]\n",
    "humidities = nh_cities[\"Humidity\"]\n",
    "\n",
    "#Calculate linear regression\n",
    "cities_slope, cities_int, cities_r, cities_p, cities_std_err = stats.linregress(latitudes, humidities)\n",
    "cities_fit = cities_slope * latitudes + cities_int\n",
    "\n",
    "#Plot the data\n",
    "plt.scatter(latitudes, humidities, marker=\"o\", facecolors=\"red\", edgecolors=\"black\")\n",
    "plt.plot(latitudes,cities_fit,\"--\")\n",
    "\n",
    "# Create a title, x label, and y label for our chart\n",
    "plt.title(\"Northern Hemisphere - Humidity vs. Latitude\")\n",
    "plt.xlabel(\"Latitude\")\n",
    "plt.ylabel(\"Humidities\")\n",
    "\n",
    "# Display the r value\n",
    "print(\"The r-value is \" + str(cities_r))\n",
    "\n",
    "plt.show()"
   ]
  },
  {
   "cell_type": "markdown",
   "metadata": {},
   "source": [
    "####  Southern Hemisphere - Humidity (%) vs. Latitude Linear Regression"
   ]
  },
  {
   "cell_type": "code",
   "execution_count": 31,
   "metadata": {},
   "outputs": [
    {
     "name": "stdout",
     "output_type": "stream",
     "text": [
      "The r-value is -0.09585234303357199\n"
     ]
    },
    {
     "data": {
      "image/png": "[encoded data removed]",
      "text/plain": [
       "<Figure size 432x288 with 1 Axes>"
      ]
     },
     "metadata": {
      "needs_background": "light"
     },
     "output_type": "display_data"
    }
   ],
   "source": [
    "# Select specified data\n",
    "latitudes = sh_cities[\"Lat\"]\n",
    "humidities = sh_cities[\"Humidity\"]\n",
    "\n",
    "#Calculate linear regression\n",
    "cities_slope, cities_int, cities_r, cities_p, cities_std_err = stats.linregress(latitudes, humidities)\n",
    "cities_fit = cities_slope * latitudes + cities_int\n",
    "\n",
    "#Plot the data\n",
    "plt.scatter(latitudes, humidities, marker=\"o\", facecolors=\"red\", edgecolors=\"black\")\n",
    "plt.plot(latitudes,cities_fit,\"--\")\n",
    "\n",
    "# Create a title, x label, and y label for our chart\n",
    "plt.title(\"Southern Hemisphere - Humidity vs. Latitude\")\n",
    "plt.xlabel(\"Latitude\")\n",
    "plt.ylabel(\"Humidities\")\n",
    "\n",
    "# Display the r value\n",
    "print(\"The r-value is \" + str(cities_r))\n",
    "\n",
    "plt.show()"
   ]
  },
  {
   "cell_type": "markdown",
   "metadata": {},
   "source": [
    "####  Northern Hemisphere - Cloudiness (%) vs. Latitude Linear Regression"
   ]
  },
  {
   "cell_type": "code",
   "execution_count": 32,
   "metadata": {},
   "outputs": [
    {
     "name": "stdout",
     "output_type": "stream",
     "text": [
      "The r-value is 0.21476496292509026\n"
     ]
    },
    {
     "data": {
      "image/png": "[encoded data removed]",
      "text/plain": [
       "<Figure size 432x288 with 1 Axes>"
      ]
     },
     "metadata": {
      "needs_background": "light"
     },
     "output_type": "display_data"
    }
   ],
   "source": [
    "# Select specified data\n",
    "latitudes = nh_cities[\"Lat\"]\n",
    "cloudliness = nh_cities[\"Cloudliness\"]\n",
    "\n",
    "#Calculate linear regression\n",
    "cities_slope, cities_int, cities_r, cities_p, cities_std_err = stats.linregress(latitudes, cloudliness)\n",
    "cities_fit = cities_slope * latitudes + cities_int\n",
    "\n",
    "#Plot the data\n",
    "plt.scatter(latitudes, cloudliness, marker=\"o\", facecolors=\"red\", edgecolors=\"black\")\n",
    "plt.plot(latitudes,cities_fit,\"--\")\n",
    "\n",
    "# Create a title, x label, and y label for our chart\n",
    "plt.title(\"Northern Hemisphere - Max Temp vs. Latitude\")\n",
    "plt.xlabel(\"Latitude\")\n",
    "plt.ylabel(\"Cloudliness\")\n",
    "\n",
    "# Display the r value\n",
    "print(\"The r-value is \" + str(cities_r))\n",
    "\n",
    "plt.show()"
   ]
  },
  {
   "cell_type": "markdown",
   "metadata": {},
   "source": [
    "####  Southern Hemisphere - Cloudiness (%) vs. Latitude Linear Regression"
   ]
  },
  {
   "cell_type": "code",
   "execution_count": 33,
   "metadata": {},
   "outputs": [
    {
     "name": "stdout",
     "output_type": "stream",
     "text": [
      "The r-value is 0.04024598577021539\n"
     ]
    },
    {
     "data": {
      "image/png": "[encoded data removed]",
      "text/plain": [
       "<Figure size 432x288 with 1 Axes>"
      ]
     },
     "metadata": {
      "needs_background": "light"
     },
     "output_type": "display_data"
    }
   ],
   "source": [
    "# Select specified data\n",
    "latitudes = sh_cities[\"Lat\"]\n",
    "cloudliness = sh_cities[\"Cloudliness\"]\n",
    "\n",
    "#Calculate linear regression\n",
    "cities_slope, cities_int, cities_r, cities_p, cities_std_err = stats.linregress(latitudes, cloudliness)\n",
    "cities_fit = cities_slope * latitudes + cities_int\n",
    "\n",
    "#Plot the data\n",
    "plt.scatter(latitudes, cloudliness, marker=\"o\", facecolors=\"red\", edgecolors=\"black\")\n",
    "plt.plot(latitudes,cities_fit,\"--\")\n",
    "\n",
    "# Create a title, x label, and y label for our chart\n",
    "plt.title(\"Southern Hemisphere - Max Temp vs. Latitude\")\n",
    "plt.xlabel(\"Latitude\")\n",
    "plt.ylabel(\"Cloudliness\")\n",
    "\n",
    "# Display the r value\n",
    "print(\"The r-value is \" + str(cities_r))\n",
    "\n",
    "plt.show()"
   ]
  },
  {
   "cell_type": "markdown",
   "metadata": {},
   "source": [
    "####  Northern Hemisphere - Wind Speed (mph) vs. Latitude Linear Regression"
   ]
  },
  {
   "cell_type": "code",
   "execution_count": 34,
   "metadata": {},
   "outputs": [
    {
     "name": "stdout",
     "output_type": "stream",
     "text": [
      "The r-value is 0.12095654790120641\n"
     ]
    },
    {
     "data": {
      "image/png": "[encoded data removed]",
      "text/plain": [
       "<Figure size 432x288 with 1 Axes>"
      ]
     },
     "metadata": {
      "needs_background": "light"
     },
     "output_type": "display_data"
    }
   ],
   "source": [
    "# Select specified data\n",
    "latitudes = nh_cities[\"Lat\"]\n",
    "wind_speed = nh_cities[\"Wind Speed\"]\n",
    "\n",
    "#Calculate linear regression\n",
    "cities_slope, cities_int, cities_r, cities_p, cities_std_err = stats.linregress(latitudes, wind_speed)\n",
    "cities_fit = cities_slope * latitudes + cities_int\n",
    "\n",
    "#Plot the data\n",
    "plt.scatter(latitudes, wind_speed, marker=\"o\", facecolors=\"red\", edgecolors=\"black\")\n",
    "plt.plot(latitudes,cities_fit,\"--\")\n",
    "\n",
    "# Create a title, x label, and y label for our chart\n",
    "plt.title(\"Northern Hemisphere - Wind Speed vs. Latitude\")\n",
    "plt.xlabel(\"Latitude\")\n",
    "plt.ylabel(\"Wind Speed\")\n",
    "\n",
    "# Display the r value\n",
    "print(\"The r-value is \" + str(cities_r))\n",
    "\n",
    "plt.show()"
   ]
  },
  {
   "cell_type": "markdown",
   "metadata": {},
   "source": [
    "####  Southern Hemisphere - Wind Speed (mph) vs. Latitude Linear Regression"
   ]
  },
  {
   "cell_type": "code",
   "execution_count": 35,
   "metadata": {},
   "outputs": [
    {
     "name": "stdout",
     "output_type": "stream",
     "text": [
      "The r-value is 0.1520259945765427\n"
     ]
    },
    {
     "data": {
      "image/png": "[encoded data removed]",
      "text/plain": [
       "<Figure size 432x288 with 1 Axes>"
      ]
     },
     "metadata": {
      "needs_background": "light"
     },
     "output_type": "display_data"
    }
   ],
   "source": [
    "# Select specified data\n",
    "latitudes = sh_cities[\"Lat\"]\n",
    "wind_speed = sh_cities[\"Wind Speed\"]\n",
    "\n",
    "#Calculate linear regression\n",
    "cities_slope, cities_int, cities_r, cities_p, cities_std_err = stats.linregress(latitudes, wind_speed)\n",
    "cities_fit = cities_slope * latitudes + cities_int\n",
    "\n",
    "#Plot the data\n",
    "plt.scatter(latitudes, wind_speed, marker=\"o\", facecolors=\"red\", edgecolors=\"black\")\n",
    "plt.plot(latitudes,cities_fit,\"--\")\n",
    "\n",
    "# Create a title, x label, and y label for our chart\n",
    "plt.title(\"Southern Hemisphere - Wind Speed vs. Latitude\")\n",
    "plt.xlabel(\"Latitude\")\n",
    "plt.ylabel(\"Wind Speed\")\n",
    "\n",
    "# Display the r value\n",
    "print(\"The r-value is \" + str(cities_r))\n",
    "\n",
    "plt.show()"
   ]
  }
 ],
 "metadata": {
  "anaconda-cloud": {},
  "kernel_info": {
   "name": "python3"
  },
  "kernelspec": {
   "display_name": "Python 3 (ipykernel)",
   "language": "python",
   "name": "python3"
  },
  "language_info": {
   "codemirror_mode": {
    "name": "ipython",
    "version": 3
   },
   "file_extension": ".py",
   "mimetype": "text/x-python",
   "name": "python",
   "nbconvert_exporter": "python",
   "pygments_lexer": "ipython3",
   "version": "3.9.7"
  },
  "latex_envs": {
   "LaTeX_envs_menu_present": true,
   "autoclose": false,
   "autocomplete": true,
   "bibliofile": "biblio.bib",
   "cite_by": "apalike",
   "current_citInitial": 1,
   "eqLabelWithNumbers": true,
   "eqNumInitial": 1,
   "hotkeys": {
    "equation": "Ctrl-E",
    "itemize": "Ctrl-I"
   },
   "labels_anchors": false,
   "latex_user_defs": false,
   "report_style_numbering": false,
   "user_envs_cfg": false
  },
  "nteract": {
   "version": "0.12.3"
  }
 },
 "nbformat": 4,
 "nbformat_minor": 2
}
