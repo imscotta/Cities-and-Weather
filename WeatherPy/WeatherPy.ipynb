{
 "cells": [
  {
   "cell_type": "markdown",
   "metadata": {},
   "source": [
    "# WeatherPy\n",
    "----\n",
    "\n",
    "#### Note\n",
    "* Instructions have been included for each segment. You do not have to follow them exactly, but they are included to help you think through the steps."
   ]
  },
  {
   "cell_type": "code",
   "execution_count": 208,
   "metadata": {
    "scrolled": true
   },
   "outputs": [],
   "source": [
    "# Dependencies and Setup\n",
    "import matplotlib.pyplot as plt\n",
    "import pandas as pd\n",
    "import numpy as np\n",
    "import requests\n",
    "import time\n",
    "from scipy.stats import linregress\n",
    "import json\n",
    "\n",
    "# Import API key\n",
    "from api_keys import weather_api_key\n",
    "\n",
    "# Incorporated citipy to determine city based on latitude and longitude\n",
    "from citipy import citipy\n",
    "\n",
    "# Output File (CSV)\n",
    "output_data_file = \"output_data/cities.csv\"\n",
    "\n",
    "# Range of latitudes and longitudes\n",
    "lat_range = (-90, 90)\n",
    "lng_range = (-180, 180)"
   ]
  },
  {
   "cell_type": "code",
   "execution_count": 209,
   "metadata": {},
   "outputs": [
    {
     "name": "stdout",
     "output_type": "stream",
     "text": [
      "Requirement already satisfied: citipy in /Users/swa/opt/anaconda3/lib/python3.9/site-packages (0.0.5)\n",
      "Requirement already satisfied: kdtree>=0.12 in /Users/swa/opt/anaconda3/lib/python3.9/site-packages (from citipy) (0.16)\n",
      "Note: you may need to restart the kernel to use updated packages.\n"
     ]
    }
   ],
   "source": [
    "pip install citipy"
   ]
  },
  {
   "cell_type": "markdown",
   "metadata": {},
   "source": [
    "## Generate Cities List"
   ]
  },
  {
   "cell_type": "code",
   "execution_count": 262,
   "metadata": {},
   "outputs": [
    {
     "name": "stdout",
     "output_type": "stream",
     "text": [
      "608\n"
     ]
    }
   ],
   "source": [
    "# List for holding lat_lngs and cities\n",
    "lat_lngs = []\n",
    "cities = []\n",
    "countries = []\n",
    "dates = []\n",
    "coordinates =[]\n",
    "\n",
    "# Create a set of random lat and lng combinations\n",
    "lats = np.random.uniform(lat_range[0], lat_range[1], size=1500)\n",
    "lngs = np.random.uniform(lng_range[0], lng_range[1], size=1500)\n",
    "lat_lngs = zip(lats, lngs)\n",
    "\n",
    "# Identify nearest city for each lat, lng combination\n",
    "for lat_lng in lat_lngs:\n",
    "    city = citipy.nearest_city(lat_lng[0], lat_lng[1]).city_name\n",
    "    # Grab the country code with the city name\n",
    "    country = citipy.nearest_city(lat_lng[0], lat_lng[1]).country_code\n",
    "    \n",
    "    # If the city is unique, then add it to a our cities list\n",
    "    if city not in cities:\n",
    "        cities.append(city)\n",
    "        # Add the country code to a list\n",
    "        countries.append(country)\n",
    "        # Add coordinates to a list that corresponds with the cities\n",
    "        coordinates.append(lat_lng)\n",
    "        \n",
    "# Print the city count to confirm sufficient count\n",
    "print(len(cities))"
   ]
  },
  {
   "cell_type": "markdown",
   "metadata": {},
   "source": [
    "### Perform API Calls\n",
    "* Perform a weather check on each city using a series of successive API calls.\n",
    "* Include a print log of each city as it's being processed (with the city number and city name).\n"
   ]
  },
  {
   "cell_type": "code",
   "execution_count": 263,
   "metadata": {
    "scrolled": false
   },
   "outputs": [
    {
     "name": "stdout",
     "output_type": "stream",
     "text": [
      "Currently checking the weather for albany\n",
      "Currently checking the weather for progreso\n",
      "Currently checking the weather for comodoro rivadavia\n",
      "Currently checking the weather for luderitz\n",
      "Currently checking the weather for yangambi\n",
      "Currently checking the weather for barrow\n",
      "Currently checking the weather for amderma\n",
      "Currently checking the weather for tigre\n",
      "Currently checking the weather for beroroha\n",
      "Currently checking the weather for yellowknife\n",
      "Currently checking the weather for ussel\n",
      "Currently checking the weather for zlatoust\n",
      "Currently checking the weather for ushuaia\n",
      "Currently checking the weather for saint george\n",
      "Currently checking the weather for punta arenas\n",
      "Currently checking the weather for boende\n",
      "Currently checking the weather for englewood\n",
      "Currently checking the weather for illoqqortoormiut\n",
      "Currently checking the weather for mahon\n",
      "Currently checking the weather for bluff\n",
      "Currently checking the weather for camacha\n",
      "Currently checking the weather for rikitea\n",
      "Currently checking the weather for carroll\n",
      "Currently checking the weather for port lincoln\n",
      "Currently checking the weather for qaanaaq\n",
      "Currently checking the weather for khatanga\n",
      "Currently checking the weather for north platte\n",
      "Currently checking the weather for torbay\n",
      "Currently checking the weather for souillac\n",
      "Currently checking the weather for dikson\n",
      "Currently checking the weather for faanui\n",
      "Currently checking the weather for murgab\n",
      "Currently checking the weather for smirnykh\n",
      "Currently checking the weather for tasiilaq\n",
      "Currently checking the weather for ahipara\n",
      "Currently checking the weather for deniliquin\n",
      "Currently checking the weather for busselton\n",
      "Currently checking the weather for mys shmidta\n",
      "Currently checking the weather for nikolskoye\n",
      "Currently checking the weather for jian\n",
      "Currently checking the weather for vaini\n",
      "Currently checking the weather for lebrija\n",
      "Currently checking the weather for arraial do cabo\n",
      "Currently checking the weather for ixtapa\n",
      "Currently checking the weather for sao felix do xingu\n",
      "Currently checking the weather for makakilo city\n",
      "Currently checking the weather for balaquid\n",
      "Currently checking the weather for provideniya\n",
      "Currently checking the weather for sioux lookout\n",
      "Currently checking the weather for saint-philippe\n",
      "Currently checking the weather for puerto ayora\n",
      "Currently checking the weather for atuona\n",
      "Currently checking the weather for ancud\n",
      "Currently checking the weather for tsihombe\n",
      "Currently checking the weather for warri\n",
      "Currently checking the weather for mount isa\n",
      "Currently checking the weather for flagstaff\n",
      "Currently checking the weather for tuktoyaktuk\n",
      "Currently checking the weather for nova odesa\n",
      "Currently checking the weather for pevek\n",
      "Currently checking the weather for hilo\n",
      "Currently checking the weather for cabedelo\n",
      "Currently checking the weather for sao filipe\n",
      "Currently checking the weather for barentsburg\n",
      "Currently checking the weather for riyadh\n",
      "Currently checking the weather for cape town\n",
      "Currently checking the weather for new norfolk\n",
      "Currently checking the weather for jamestown\n",
      "Currently checking the weather for sao joao da barra\n",
      "Currently checking the weather for dingle\n",
      "Currently checking the weather for andria\n",
      "Currently checking the weather for port elizabeth\n",
      "Currently checking the weather for sur\n",
      "Currently checking the weather for hasaki\n",
      "Currently checking the weather for talnakh\n",
      "Currently checking the weather for ribeira grande\n",
      "Currently checking the weather for victoria\n",
      "Currently checking the weather for avarua\n",
      "Currently checking the weather for pauini\n",
      "Currently checking the weather for belushya guba\n",
      "Currently checking the weather for kahului\n",
      "Currently checking the weather for guerrero negro\n",
      "Currently checking the weather for entre rios\n",
      "Currently checking the weather for karaul\n",
      "Currently checking the weather for marrakesh\n",
      "Currently checking the weather for laguna\n",
      "Currently checking the weather for teluk nibung\n",
      "Currently checking the weather for vostok\n",
      "Currently checking the weather for lompoc\n",
      "Currently checking the weather for tartagal\n",
      "Currently checking the weather for mataura\n",
      "Currently checking the weather for ilhabela\n",
      "Currently checking the weather for mahanje\n",
      "Currently checking the weather for the pas\n",
      "Currently checking the weather for vrangel\n",
      "Currently checking the weather for kapaa\n",
      "Currently checking the weather for agadez\n",
      "Currently checking the weather for saleaula\n",
      "Currently checking the weather for ngaoundere\n",
      "Currently checking the weather for klaksvik\n",
      "Currently checking the weather for walcz\n",
      "Currently checking the weather for codrington\n",
      "Currently checking the weather for mahibadhoo\n",
      "Currently checking the weather for petropavlovsk-kamchatskiy\n",
      "Currently checking the weather for ust-tsilma\n",
      "Currently checking the weather for georgetown\n",
      "Currently checking the weather for aklavik\n",
      "Currently checking the weather for sitka\n",
      "Currently checking the weather for pisco\n",
      "Currently checking the weather for abu jubayhah\n",
      "Currently checking the weather for henniker\n",
      "Currently checking the weather for bethel\n",
      "Currently checking the weather for lom sak\n",
      "Currently checking the weather for hithadhoo\n",
      "Currently checking the weather for lebu\n",
      "Currently checking the weather for taolanaro\n",
      "Currently checking the weather for saskylakh\n",
      "Currently checking the weather for chikwawa\n",
      "Currently checking the weather for cidreira\n",
      "Currently checking the weather for hobart\n",
      "Currently checking the weather for puerto colombia\n",
      "Currently checking the weather for bredasdorp\n",
      "Currently checking the weather for saldanha\n",
      "Currently checking the weather for porecatu\n",
      "Currently checking the weather for mount gambier\n",
      "Currently checking the weather for severo-kurilsk\n",
      "Currently checking the weather for korla\n",
      "Currently checking the weather for ulaangom\n",
      "Currently checking the weather for boundiali\n",
      "Currently checking the weather for chuy\n",
      "Currently checking the weather for kaitangata\n",
      "Currently checking the weather for butaritari\n",
      "Currently checking the weather for whitianga\n",
      "Currently checking the weather for huarmey\n",
      "Currently checking the weather for mishan\n",
      "Currently checking the weather for sentyabrskiy\n",
      "Currently checking the weather for loma bonita\n",
      "Currently checking the weather for east london\n",
      "Currently checking the weather for kodiak\n",
      "Currently checking the weather for ponta do sol\n",
      "Currently checking the weather for antofagasta\n",
      "Currently checking the weather for maxixe\n",
      "Currently checking the weather for katsuura\n",
      "Currently checking the weather for attawapiskat\n",
      "Currently checking the weather for bilma\n",
      "Currently checking the weather for moree\n",
      "Currently checking the weather for bengkulu\n",
      "Currently checking the weather for thompson\n",
      "Currently checking the weather for bereda\n",
      "Currently checking the weather for hermanus\n",
      "Currently checking the weather for tumannyy\n",
      "Currently checking the weather for nuuk\n",
      "Currently checking the weather for amos\n",
      "Currently checking the weather for fortuna\n",
      "Currently checking the weather for grand river south east\n",
      "Currently checking the weather for tiksi\n",
      "Currently checking the weather for bitung\n",
      "Currently checking the weather for mahebourg\n",
      "Currently checking the weather for mbanza-ngungu\n",
      "Currently checking the weather for mar del plata\n",
      "Currently checking the weather for kalavad\n",
      "Currently checking the weather for santa maria\n",
      "Currently checking the weather for palu\n",
      "Currently checking the weather for bogotol\n",
      "Currently checking the weather for upernavik\n",
      "Currently checking the weather for port alfred\n",
      "Currently checking the weather for yulara\n",
      "Currently checking the weather for longyearbyen\n",
      "Currently checking the weather for maneadero\n",
      "Currently checking the weather for fort frances\n",
      "Currently checking the weather for krasnoselkup\n",
      "Currently checking the weather for dingzhou\n",
      "Currently checking the weather for aksarka\n",
      "Currently checking the weather for karaman\n",
      "Currently checking the weather for korsakov\n",
      "Currently checking the weather for sembakung\n",
      "Currently checking the weather for yerbogachen\n",
      "Currently checking the weather for high level\n",
      "Currently checking the weather for atar\n",
      "Currently checking the weather for castro\n",
      "Currently checking the weather for santarem\n",
      "Currently checking the weather for lorengau\n",
      "Currently checking the weather for palabuhanratu\n",
      "Currently checking the weather for manggar\n"
     ]
    },
    {
     "name": "stdout",
     "output_type": "stream",
     "text": [
      "Currently checking the weather for touros\n",
      "Currently checking the weather for cherskiy\n",
      "Currently checking the weather for chara\n",
      "Currently checking the weather for geraldton\n",
      "Currently checking the weather for yuncheng\n",
      "Currently checking the weather for gulshat\n",
      "Currently checking the weather for umm lajj\n",
      "Currently checking the weather for brae\n",
      "Currently checking the weather for kaspiyskiy\n",
      "Currently checking the weather for waingapu\n",
      "Currently checking the weather for sistranda\n",
      "Currently checking the weather for louisbourg\n",
      "Currently checking the weather for bosaso\n",
      "Currently checking the weather for piacabucu\n",
      "Currently checking the weather for srednekolymsk\n",
      "Currently checking the weather for marquette\n",
      "Currently checking the weather for xiuyan\n",
      "Currently checking the weather for chapada dos guimaraes\n",
      "Currently checking the weather for mundo nuevo\n",
      "Currently checking the weather for port blair\n",
      "Currently checking the weather for bambous virieux\n",
      "Currently checking the weather for hervey bay\n",
      "Currently checking the weather for ipswich\n",
      "Currently checking the weather for nouadhibou\n",
      "Currently checking the weather for portland\n",
      "Currently checking the weather for magole\n",
      "Currently checking the weather for katha\n",
      "Currently checking the weather for hegang\n",
      "Currently checking the weather for adre\n",
      "Currently checking the weather for narsaq\n",
      "Currently checking the weather for senanga\n",
      "Currently checking the weather for robertson\n",
      "Currently checking the weather for kavieng\n",
      "Currently checking the weather for chicama\n",
      "Currently checking the weather for caravelas\n",
      "Currently checking the weather for ust-kuyga\n",
      "Currently checking the weather for gamba\n",
      "Currently checking the weather for namibe\n",
      "Currently checking the weather for lavrentiya\n",
      "Currently checking the weather for muroto\n",
      "Currently checking the weather for arman\n",
      "Currently checking the weather for vestmannaeyjar\n",
      "Currently checking the weather for lagoa\n",
      "Currently checking the weather for aldan\n",
      "Currently checking the weather for elat\n",
      "Currently checking the weather for gedo\n",
      "Currently checking the weather for bonavista\n",
      "Currently checking the weather for nyurba\n",
      "Currently checking the weather for wenling\n",
      "Currently checking the weather for noumea\n",
      "Currently checking the weather for grand baie\n",
      "Currently checking the weather for hambantota\n",
      "Currently checking the weather for hurghada\n",
      "Currently checking the weather for kaeo\n",
      "Currently checking the weather for elizabeth city\n",
      "Currently checking the weather for bondo\n",
      "Currently checking the weather for sardarshahr\n",
      "Currently checking the weather for lahat\n",
      "Currently checking the weather for pemangkat\n",
      "Currently checking the weather for pavino\n",
      "Currently checking the weather for cap malheureux\n",
      "Currently checking the weather for banfora\n",
      "Currently checking the weather for mana\n",
      "Currently checking the weather for sisimiut\n",
      "Currently checking the weather for gander\n",
      "Currently checking the weather for ngukurr\n",
      "Currently checking the weather for port hedland\n",
      "Currently checking the weather for volksrust\n",
      "Currently checking the weather for bogande\n",
      "Currently checking the weather for yangjiang\n",
      "Currently checking the weather for limbang\n",
      "Currently checking the weather for gushikawa\n",
      "Currently checking the weather for dalinghe\n",
      "Currently checking the weather for nantucket\n",
      "Currently checking the weather for ballina\n",
      "Currently checking the weather for san diego\n",
      "Currently checking the weather for carnarvon\n",
      "Currently checking the weather for panguna\n",
      "Currently checking the weather for constitucion\n",
      "Currently checking the weather for hami\n",
      "Currently checking the weather for oranjestad\n",
      "Currently checking the weather for tautira\n",
      "Currently checking the weather for mantua\n",
      "Currently checking the weather for lodja\n",
      "Currently checking the weather for airai\n",
      "Currently checking the weather for kuytun\n",
      "Currently checking the weather for havelock\n",
      "Currently checking the weather for chokurdakh\n",
      "Currently checking the weather for xinzhou\n",
      "Currently checking the weather for nanortalik\n",
      "Currently checking the weather for warqla\n",
      "Currently checking the weather for suez\n",
      "Currently checking the weather for taltal\n",
      "Currently checking the weather for aripuana\n",
      "Currently checking the weather for miri\n",
      "Currently checking the weather for zonguldak\n",
      "Currently checking the weather for san rafael del sur\n",
      "Currently checking the weather for kavaratti\n",
      "Currently checking the weather for fairbanks\n",
      "Currently checking the weather for naze\n",
      "Currently checking the weather for esperance\n",
      "Currently checking the weather for yuzhno-kurilsk\n",
      "Currently checking the weather for lucero\n",
      "Currently checking the weather for kodinsk\n",
      "Currently checking the weather for berlevag\n",
      "Currently checking the weather for tahoua\n",
      "Currently checking the weather for jiddah\n",
      "Currently checking the weather for beringovskiy\n",
      "Currently checking the weather for sibu\n",
      "Currently checking the weather for sao gabriel da cachoeira\n",
      "Currently checking the weather for rumphi\n",
      "Currently checking the weather for okhotsk\n",
      "Currently checking the weather for devonport\n",
      "Currently checking the weather for vitim\n",
      "Currently checking the weather for saint-georges\n",
      "Currently checking the weather for nortelandia\n",
      "Currently checking the weather for slave lake\n",
      "Currently checking the weather for zharkovskiy\n",
      "Currently checking the weather for whitehaven\n",
      "Currently checking the weather for vardo\n",
      "Currently checking the weather for olafsvik\n",
      "Currently checking the weather for grindavik\n",
      "Currently checking the weather for kyabe\n",
      "Currently checking the weather for fenoarivo\n",
      "Currently checking the weather for doctor pedro p. pena\n",
      "Currently checking the weather for wageningen\n",
      "Currently checking the weather for hokitika\n",
      "Currently checking the weather for baykit\n",
      "Currently checking the weather for cockburn town\n",
      "Currently checking the weather for svetlogorsk\n",
      "Currently checking the weather for port keats\n",
      "Currently checking the weather for yumen\n",
      "Currently checking the weather for salym\n",
      "Currently checking the weather for moose factory\n",
      "Currently checking the weather for ponta delgada\n",
      "Currently checking the weather for trinidad\n",
      "Currently checking the weather for mahadday weyne\n",
      "Currently checking the weather for adrar\n",
      "Currently checking the weather for aksu\n",
      "Currently checking the weather for harper\n",
      "Currently checking the weather for vaitupu\n",
      "Currently checking the weather for pekan\n",
      "Currently checking the weather for salalah\n",
      "Currently checking the weather for san joaquin\n",
      "Currently checking the weather for anar darreh\n",
      "Currently checking the weather for ust-maya\n",
      "Currently checking the weather for galiwinku\n",
      "Currently checking the weather for tvedestrand\n",
      "Currently checking the weather for tongchuan\n",
      "Currently checking the weather for pacific grove\n",
      "Currently checking the weather for port-gentil\n",
      "Currently checking the weather for vung tau\n",
      "Currently checking the weather for starodub\n",
      "Currently checking the weather for poum\n",
      "Currently checking the weather for husavik\n",
      "Currently checking the weather for ostrovnoy\n",
      "Currently checking the weather for igarka\n",
      "Currently checking the weather for sinjai\n",
      "Currently checking the weather for kifri\n",
      "Currently checking the weather for college\n",
      "Currently checking the weather for tarbagatay\n",
      "Currently checking the weather for espinosa\n",
      "Currently checking the weather for lewiston\n",
      "Currently checking the weather for muncar\n",
      "Currently checking the weather for wanning\n",
      "Currently checking the weather for mumford\n",
      "Currently checking the weather for saint-junien\n",
      "Currently checking the weather for egvekinot\n",
      "Currently checking the weather for palmer\n",
      "Currently checking the weather for dianopolis\n",
      "Currently checking the weather for rorvik\n",
      "Currently checking the weather for ksenyevka\n",
      "Currently checking the weather for uhlove\n",
      "Currently checking the weather for clyde river\n",
      "Currently checking the weather for cabo san lucas\n",
      "Currently checking the weather for quatre cocos\n",
      "Currently checking the weather for birjand\n",
      "Currently checking the weather for san patricio\n",
      "Currently checking the weather for cayenne\n",
      "Currently checking the weather for talara\n",
      "Currently checking the weather for kamenskoye\n",
      "Currently checking the weather for tuskegee\n",
      "Currently checking the weather for toora-khem\n",
      "Currently checking the weather for peterborough\n",
      "Currently checking the weather for san jeronimo\n"
     ]
    },
    {
     "name": "stdout",
     "output_type": "stream",
     "text": [
      "Currently checking the weather for frankenberg\n",
      "Currently checking the weather for panchagarh\n",
      "Currently checking the weather for port hardy\n",
      "Currently checking the weather for altay\n",
      "Currently checking the weather for miranda\n",
      "Currently checking the weather for manzhouli\n",
      "Currently checking the weather for tabiauea\n",
      "Currently checking the weather for goderich\n",
      "Currently checking the weather for hofn\n",
      "Currently checking the weather for khormuj\n",
      "Currently checking the weather for mehamn\n",
      "Currently checking the weather for murmashi\n",
      "Currently checking the weather for byron bay\n",
      "Currently checking the weather for salima\n",
      "Currently checking the weather for tuatapere\n",
      "Currently checking the weather for micheweni\n",
      "Currently checking the weather for mandalgovi\n",
      "Currently checking the weather for meadow lake\n",
      "Currently checking the weather for kinkala\n",
      "Currently checking the weather for karakol\n",
      "Currently checking the weather for novyy urengoy\n",
      "Currently checking the weather for kelowna\n",
      "Currently checking the weather for santona\n",
      "Currently checking the weather for praia da vitoria\n",
      "Currently checking the weather for leningradskiy\n",
      "Currently checking the weather for petrokamenskoye\n",
      "Currently checking the weather for karratha\n",
      "Currently checking the weather for pouembout\n",
      "Currently checking the weather for bucerias\n",
      "Currently checking the weather for saint-augustin\n",
      "Currently checking the weather for flin flon\n",
      "Currently checking the weather for marcona\n",
      "Currently checking the weather for half moon bay\n",
      "Currently checking the weather for hilversum\n",
      "Currently checking the weather for seoul\n",
      "Currently checking the weather for nishihara\n",
      "Currently checking the weather for kalmunai\n",
      "Currently checking the weather for san luis\n",
      "Currently checking the weather for george town\n",
      "Currently checking the weather for richards bay\n",
      "Currently checking the weather for general roca\n",
      "Currently checking the weather for novodugino\n",
      "Currently checking the weather for stephenville\n",
      "Currently checking the weather for haines junction\n",
      "Currently checking the weather for karlskrona\n",
      "Currently checking the weather for sept-iles\n",
      "Currently checking the weather for jacqueville\n",
      "Currently checking the weather for leh\n",
      "Currently checking the weather for nizhneyansk\n",
      "Currently checking the weather for kajaani\n",
      "Currently checking the weather for coquimbo\n",
      "Currently checking the weather for nambour\n",
      "Currently checking the weather for bima\n",
      "Currently checking the weather for ilulissat\n",
      "Currently checking the weather for pozo colorado\n",
      "Currently checking the weather for sal rei\n",
      "Currently checking the weather for bambanglipuro\n",
      "Currently checking the weather for khonuu\n",
      "Currently checking the weather for faya\n",
      "Currently checking the weather for bathsheba\n",
      "Currently checking the weather for shelburne\n",
      "Currently checking the weather for karakendzha\n",
      "Currently checking the weather for fort erie\n",
      "Currently checking the weather for ocos\n",
      "Currently checking the weather for gurupa\n",
      "Currently checking the weather for diapaga\n",
      "Currently checking the weather for fonte boa\n",
      "Currently checking the weather for abha\n",
      "Currently checking the weather for halifax\n",
      "Currently checking the weather for bolungarvik\n",
      "Currently checking the weather for isangel\n",
      "Currently checking the weather for paragominas\n",
      "Currently checking the weather for taree\n",
      "Currently checking the weather for ayer itam\n",
      "Currently checking the weather for idil\n",
      "Currently checking the weather for barmer\n",
      "Currently checking the weather for margate\n",
      "Currently checking the weather for batagay-alyta\n",
      "Currently checking the weather for komsomolskiy\n",
      "Currently checking the weather for sibolga\n",
      "Currently checking the weather for rairangpur\n",
      "Currently checking the weather for malwan\n",
      "Currently checking the weather for contamana\n",
      "Currently checking the weather for abnub\n",
      "Currently checking the weather for sinnamary\n",
      "Currently checking the weather for gat\n",
      "Currently checking the weather for kozhva\n",
      "Currently checking the weather for karmana\n",
      "Currently checking the weather for tando muhammad khan\n",
      "Currently checking the weather for shimoda\n",
      "Currently checking the weather for romny\n",
      "Currently checking the weather for inirida\n",
      "Currently checking the weather for baculin\n",
      "Currently checking the weather for araguaina\n",
      "Currently checking the weather for butembo\n",
      "Currently checking the weather for greencastle\n",
      "Currently checking the weather for peterhead\n",
      "Currently checking the weather for aguimes\n",
      "Currently checking the weather for tidore\n",
      "Currently checking the weather for kyshtovka\n",
      "Currently checking the weather for saint anthony\n",
      "Currently checking the weather for catamarca\n",
      "Currently checking the weather for eureka\n",
      "Currently checking the weather for san policarpo\n",
      "Currently checking the weather for wittenberge\n",
      "Currently checking the weather for satitoa\n",
      "Currently checking the weather for san cristobal\n",
      "Currently checking the weather for lasa\n",
      "Currently checking the weather for namatanai\n",
      "Currently checking the weather for buraydah\n",
      "Currently checking the weather for sakakah\n",
      "Currently checking the weather for canyon lake\n",
      "Currently checking the weather for manokwari\n",
      "Currently checking the weather for biak\n",
      "Currently checking the weather for vao\n",
      "Currently checking the weather for angoche\n",
      "Currently checking the weather for toliary\n",
      "Currently checking the weather for bendigo\n",
      "Currently checking the weather for placido de castro\n",
      "Currently checking the weather for sorland\n",
      "Currently checking the weather for urucara\n",
      "Currently checking the weather for inuvik\n",
      "Currently checking the weather for sikonge\n",
      "Currently checking the weather for poronaysk\n",
      "Currently checking the weather for hamilton\n",
      "Currently checking the weather for batemans bay\n",
      "Currently checking the weather for banda aceh\n",
      "Currently checking the weather for kurilsk\n",
      "Currently checking the weather for mingaora\n",
      "Currently checking the weather for taoudenni\n",
      "Currently checking the weather for iqaluit\n",
      "Currently checking the weather for yomitan\n",
      "Currently checking the weather for verkhnyaya balkariya\n",
      "Currently checking the weather for clarence town\n",
      "Currently checking the weather for ericeira\n",
      "Currently checking the weather for usinsk\n",
      "Currently checking the weather for beisfjord\n",
      "Currently checking the weather for krasnyy kut\n",
      "Currently checking the weather for rawson\n",
      "Currently checking the weather for pitiquito\n",
      "Currently checking the weather for kharp\n",
      "Currently checking the weather for los llanos de aridane\n",
      "Currently checking the weather for te anau\n",
      "Currently checking the weather for porto walter\n",
      "Currently checking the weather for erenhot\n",
      "Currently checking the weather for omsukchan\n",
      "Currently checking the weather for mangai\n",
      "Currently checking the weather for grand centre\n",
      "Currently checking the weather for eyl\n",
      "Currently checking the weather for harnoli\n",
      "Currently checking the weather for teahupoo\n",
      "Currently checking the weather for nome\n",
      "Currently checking the weather for ialibu\n",
      "Currently checking the weather for zambezi\n",
      "Currently checking the weather for pandan niog\n",
      "Currently checking the weather for antsohihy\n",
      "Currently checking the weather for esmeraldas\n",
      "Currently checking the weather for sidi ali\n",
      "Currently checking the weather for hihifo\n",
      "Currently checking the weather for kununurra\n",
      "Currently checking the weather for harnosand\n",
      "Currently checking the weather for valle de allende\n",
      "Currently checking the weather for arlit\n",
      "Currently checking the weather for ronne\n",
      "Currently checking the weather for vanimo\n",
      "Currently checking the weather for scarborough\n",
      "Currently checking the weather for manicore\n",
      "Currently checking the weather for santa rosa\n",
      "Currently checking the weather for dyersburg\n",
      "Currently checking the weather for presidente medici\n",
      "Currently checking the weather for puerto escondido\n",
      "Currently checking the weather for evensk\n",
      "Currently checking the weather for bay roberts\n",
      "Currently checking the weather for tecoanapa\n",
      "Currently checking the weather for ngunguru\n",
      "Currently checking the weather for teguise\n",
      "Currently checking the weather for bridlington\n",
      "Currently checking the weather for kawalu\n",
      "Currently checking the weather for san borja\n",
      "Currently checking the weather for show low\n",
      "Currently checking the weather for verdun\n",
      "Currently checking the weather for nabire\n",
      "Currently checking the weather for quelimane\n",
      "Currently checking the weather for rawah\n"
     ]
    },
    {
     "name": "stdout",
     "output_type": "stream",
     "text": [
      "Currently checking the weather for pendleton\n",
      "Currently checking the weather for lichinga\n",
      "Currently checking the weather for vila franca do campo\n",
      "Currently checking the weather for jalu\n",
      "Currently checking the weather for dangriga\n",
      "Currently checking the weather for kota\n",
      "Currently checking the weather for navalmoral de la mata\n",
      "Currently checking the weather for santa fe\n",
      "Currently checking the weather for marsa matruh\n",
      "Currently checking the weather for baniachang\n",
      "Currently checking the weather for derbent\n",
      "Currently checking the weather for taywarah\n",
      "Currently checking the weather for broome\n",
      "Currently checking the weather for soyo\n",
      "Currently checking the weather for susanville\n",
      "Currently checking the weather for vallenar\n",
      "Currently checking the weather for tha chang\n",
      "Currently checking the weather for umzimvubu\n",
      "Currently checking the weather for banjar\n",
      "Currently checking the weather for padang\n",
      "Currently checking the weather for birao\n",
      "Currently checking the weather for manacapuru\n",
      "Currently checking the weather for havoysund\n",
      "Currently checking the weather for ketchikan\n",
      "Currently checking the weather for mamou\n",
      "Currently checking the weather for aktas\n",
      "Currently checking the weather for kisangani\n",
      "Currently checking the weather for port macquarie\n",
      "Currently checking the weather for tres palos\n",
      "Currently checking the weather for hay river\n",
      "Currently checking the weather for douglas\n",
      "Currently checking the weather for talakan\n",
      "Currently checking the weather for burnie\n",
      "Currently checking the weather for imeni poliny osipenko\n",
      "Currently checking the weather for xining\n",
      "Currently checking the weather for merauke\n",
      "Currently checking the weather for fare\n",
      "Currently checking the weather for high rock\n",
      "Currently checking the weather for acajutla\n",
      "Currently checking the weather for chirongui\n",
      "Currently checking the weather for kumhari\n",
      "Currently checking the weather for vyazma\n",
      "Currently checking the weather for puro\n",
      "Currently checking the weather for alakurtti\n",
      "Currently checking the weather for iznoski\n",
      "Currently checking the weather for kijang\n",
      "Currently checking the weather for sangolqui\n",
      "Currently checking the weather for wolmaranstad\n",
      "Currently checking the weather for nador\n",
      "Currently checking the weather for mirnyy\n",
      "Currently checking the weather for kalutara\n",
      "Currently checking the weather for sirnak\n",
      "Currently checking the weather for zhigansk\n",
      "Currently checking the weather for iringa\n",
      "Currently checking the weather for la seyne-sur-mer\n"
     ]
    },
    {
     "data": {
      "text/html": [
       "<div>\n",
       "<style scoped>\n",
       "    .dataframe tbody tr th:only-of-type {\n",
       "        vertical-align: middle;\n",
       "    }\n",
       "\n",
       "    .dataframe tbody tr th {\n",
       "        vertical-align: top;\n",
       "    }\n",
       "\n",
       "    .dataframe thead th {\n",
       "        text-align: right;\n",
       "    }\n",
       "</style>\n",
       "<table border=\"1\" class=\"dataframe\">\n",
       "  <thead>\n",
       "    <tr style=\"text-align: right;\">\n",
       "      <th></th>\n",
       "      <th>City</th>\n",
       "      <th>Lat</th>\n",
       "      <th>Lng</th>\n",
       "      <th>Max Temp</th>\n",
       "      <th>Humidity</th>\n",
       "      <th>Cloudliness</th>\n",
       "      <th>Wind Speed</th>\n",
       "      <th>Country</th>\n",
       "      <th>Date</th>\n",
       "    </tr>\n",
       "  </thead>\n",
       "  <tbody>\n",
       "    <tr>\n",
       "      <th>0</th>\n",
       "      <td>Albany</td>\n",
       "      <td>-64.724715</td>\n",
       "      <td>107.207715</td>\n",
       "      <td>8.71</td>\n",
       "      <td>93.0</td>\n",
       "      <td>100.0</td>\n",
       "      <td>21.54</td>\n",
       "      <td>AU</td>\n",
       "      <td>1.650969e+09</td>\n",
       "    </tr>\n",
       "    <tr>\n",
       "      <th>1</th>\n",
       "      <td>Progreso</td>\n",
       "      <td>24.641227</td>\n",
       "      <td>-90.523992</td>\n",
       "      <td>77.45</td>\n",
       "      <td>84.0</td>\n",
       "      <td>0.0</td>\n",
       "      <td>14.61</td>\n",
       "      <td>MX</td>\n",
       "      <td>1.650908e+09</td>\n",
       "    </tr>\n",
       "    <tr>\n",
       "      <th>2</th>\n",
       "      <td>Comodoro rivadavia</td>\n",
       "      <td>-44.148168</td>\n",
       "      <td>-67.638349</td>\n",
       "      <td>54.50</td>\n",
       "      <td>41.0</td>\n",
       "      <td>100.0</td>\n",
       "      <td>20.45</td>\n",
       "      <td>AR</td>\n",
       "      <td>1.650919e+09</td>\n",
       "    </tr>\n",
       "    <tr>\n",
       "      <th>3</th>\n",
       "      <td>Luderitz</td>\n",
       "      <td>-31.317895</td>\n",
       "      <td>0.758280</td>\n",
       "      <td>65.55</td>\n",
       "      <td>67.0</td>\n",
       "      <td>100.0</td>\n",
       "      <td>14.90</td>\n",
       "      <td>NA</td>\n",
       "      <td>1.650929e+09</td>\n",
       "    </tr>\n",
       "    <tr>\n",
       "      <th>4</th>\n",
       "      <td>Yangambi</td>\n",
       "      <td>-0.071054</td>\n",
       "      <td>23.789763</td>\n",
       "      <td>69.53</td>\n",
       "      <td>99.0</td>\n",
       "      <td>88.0</td>\n",
       "      <td>2.04</td>\n",
       "      <td>CD</td>\n",
       "      <td>1.650937e+09</td>\n",
       "    </tr>\n",
       "    <tr>\n",
       "      <th>...</th>\n",
       "      <td>...</td>\n",
       "      <td>...</td>\n",
       "      <td>...</td>\n",
       "      <td>...</td>\n",
       "      <td>...</td>\n",
       "      <td>...</td>\n",
       "      <td>...</td>\n",
       "      <td>...</td>\n",
       "      <td>...</td>\n",
       "    </tr>\n",
       "    <tr>\n",
       "      <th>603</th>\n",
       "      <td>Kalutara</td>\n",
       "      <td>6.663162</td>\n",
       "      <td>79.969598</td>\n",
       "      <td>76.41</td>\n",
       "      <td>87.0</td>\n",
       "      <td>69.0</td>\n",
       "      <td>3.47</td>\n",
       "      <td>LK</td>\n",
       "      <td>1.650950e+09</td>\n",
       "    </tr>\n",
       "    <tr>\n",
       "      <th>604</th>\n",
       "      <td>Sirnak</td>\n",
       "      <td>37.535885</td>\n",
       "      <td>42.473748</td>\n",
       "      <td>48.20</td>\n",
       "      <td>70.0</td>\n",
       "      <td>63.0</td>\n",
       "      <td>3.58</td>\n",
       "      <td>TR</td>\n",
       "      <td>1.650941e+09</td>\n",
       "    </tr>\n",
       "    <tr>\n",
       "      <th>605</th>\n",
       "      <td>Zhigansk</td>\n",
       "      <td>70.032623</td>\n",
       "      <td>124.432684</td>\n",
       "      <td>7.97</td>\n",
       "      <td>90.0</td>\n",
       "      <td>61.0</td>\n",
       "      <td>3.02</td>\n",
       "      <td>RU</td>\n",
       "      <td>1.650962e+09</td>\n",
       "    </tr>\n",
       "    <tr>\n",
       "      <th>606</th>\n",
       "      <td>Iringa</td>\n",
       "      <td>-8.174751</td>\n",
       "      <td>35.825309</td>\n",
       "      <td>57.06</td>\n",
       "      <td>93.0</td>\n",
       "      <td>96.0</td>\n",
       "      <td>4.21</td>\n",
       "      <td>TZ</td>\n",
       "      <td>1.650941e+09</td>\n",
       "    </tr>\n",
       "    <tr>\n",
       "      <th>607</th>\n",
       "      <td>La seyne-sur-mer</td>\n",
       "      <td>42.329003</td>\n",
       "      <td>5.833615</td>\n",
       "      <td>55.99</td>\n",
       "      <td>63.0</td>\n",
       "      <td>3.0</td>\n",
       "      <td>14.45</td>\n",
       "      <td>FR</td>\n",
       "      <td>1.650930e+09</td>\n",
       "    </tr>\n",
       "  </tbody>\n",
       "</table>\n",
       "<p>608 rows × 9 columns</p>\n",
       "</div>"
      ],
      "text/plain": [
       "                   City        Lat         Lng  Max Temp  Humidity  \\\n",
       "0                Albany -64.724715  107.207715      8.71      93.0   \n",
       "1              Progreso  24.641227  -90.523992     77.45      84.0   \n",
       "2    Comodoro rivadavia -44.148168  -67.638349     54.50      41.0   \n",
       "3              Luderitz -31.317895    0.758280     65.55      67.0   \n",
       "4              Yangambi  -0.071054   23.789763     69.53      99.0   \n",
       "..                  ...        ...         ...       ...       ...   \n",
       "603            Kalutara   6.663162   79.969598     76.41      87.0   \n",
       "604              Sirnak  37.535885   42.473748     48.20      70.0   \n",
       "605            Zhigansk  70.032623  124.432684      7.97      90.0   \n",
       "606              Iringa  -8.174751   35.825309     57.06      93.0   \n",
       "607    La seyne-sur-mer  42.329003    5.833615     55.99      63.0   \n",
       "\n",
       "     Cloudliness  Wind Speed Country          Date  \n",
       "0          100.0       21.54      AU  1.650969e+09  \n",
       "1            0.0       14.61      MX  1.650908e+09  \n",
       "2          100.0       20.45      AR  1.650919e+09  \n",
       "3          100.0       14.90      NA  1.650929e+09  \n",
       "4           88.0        2.04      CD  1.650937e+09  \n",
       "..           ...         ...     ...           ...  \n",
       "603         69.0        3.47      LK  1.650950e+09  \n",
       "604         63.0        3.58      TR  1.650941e+09  \n",
       "605         61.0        3.02      RU  1.650962e+09  \n",
       "606         96.0        4.21      TZ  1.650941e+09  \n",
       "607          3.0       14.45      FR  1.650930e+09  \n",
       "\n",
       "[608 rows x 9 columns]"
      ]
     },
     "metadata": {},
     "output_type": "display_data"
    }
   ],
   "source": [
    "# Create count of cities to increment as we loop through longitude and latitude\n",
    "city_count = 0\n",
    "\n",
    "# Create new data frame for weather api data\n",
    "cities_weather = pd.DataFrame()\n",
    "\n",
    "# Loop through coordinates\n",
    "for coordinate in coordinates:\n",
    "    print(\"Currently checking the weather for \" + cities[city_count])\n",
    "\n",
    "    # Grab the longitude and latitude\n",
    "    current_lat = coordinate[0]\n",
    "    current_long = coordinate[1]  \n",
    "\n",
    "    # Create the api request\n",
    "    base_url = \"https://api.openweathermap.org/data/2.5/weather?\"\n",
    "    params = {\n",
    "        \"lat\" : current_lat,\n",
    "        \"lon\" : current_long,\n",
    "        \"appid\" : weather_api_key,\n",
    "        \"units\" : \"imperial\"\n",
    "    }\n",
    "    city_weather = requests.get(base_url, params=params)\n",
    "\n",
    "    weather_data = city_weather.json()\n",
    "\n",
    "    # Add the weather data and city data to the city_weather dataframe\n",
    "    cities_weather.loc[city_count, \"City\"] = cities[city_count].capitalize()\n",
    "    cities_weather.loc[city_count, \"Lat\"] = current_lat\n",
    "    cities_weather.loc[city_count, \"Lng\"] = current_long\n",
    "    cities_weather.loc[city_count, \"Max Temp\"] = weather_data[\"main\"][\"temp_max\"]\n",
    "    cities_weather.loc[city_count, \"Humidity\"] = weather_data[\"main\"][\"humidity\"]\n",
    "    cities_weather.loc[city_count, \"Cloudliness\"] = weather_data[\"clouds\"][\"all\"]\n",
    "    cities_weather.loc[city_count, \"Wind Speed\"] = weather_data[\"wind\"][\"speed\"]\n",
    "    cities_weather.loc[city_count, \"Country\"] = countries[city_count].upper()\n",
    "    current_date = weather_data[\"dt\"] + weather_data[\"timezone\"]\n",
    "    cities_weather.loc[city_count, \"Date\"] = current_date\n",
    "\n",
    "    # Increment the city count\n",
    "    city_count = city_count + 1\n",
    "\n",
    "# Display the final table of city and weather data\n",
    "display(cities_weather)"
   ]
  },
  {
   "cell_type": "markdown",
   "metadata": {},
   "source": [
    "### Convert Raw Data to DataFrame\n",
    "* Export the city data into a .csv.\n",
    "* Display the DataFrame"
   ]
  },
  {
   "cell_type": "code",
   "execution_count": 264,
   "metadata": {},
   "outputs": [],
   "source": [
    "# Export DataFrame to CSV file\n",
    "import os\n",
    "os.makedirs('Export', exist_ok=True)\n",
    "cities_weather.to_csv('Export/City_Weather.csv')"
   ]
  },
  {
   "cell_type": "code",
   "execution_count": 240,
   "metadata": {},
   "outputs": [
    {
     "data": {
      "text/html": [
       "<div>\n",
       "<style scoped>\n",
       "    .dataframe tbody tr th:only-of-type {\n",
       "        vertical-align: middle;\n",
       "    }\n",
       "\n",
       "    .dataframe tbody tr th {\n",
       "        vertical-align: top;\n",
       "    }\n",
       "\n",
       "    .dataframe thead th {\n",
       "        text-align: right;\n",
       "    }\n",
       "</style>\n",
       "<table border=\"1\" class=\"dataframe\">\n",
       "  <thead>\n",
       "    <tr style=\"text-align: right;\">\n",
       "      <th></th>\n",
       "      <th>Lat</th>\n",
       "      <th>Lng</th>\n",
       "      <th>Max Temp</th>\n",
       "      <th>Humidity</th>\n",
       "      <th>Cloudliness</th>\n",
       "      <th>Wind Speed</th>\n",
       "      <th>Date</th>\n",
       "    </tr>\n",
       "  </thead>\n",
       "  <tbody>\n",
       "    <tr>\n",
       "      <th>count</th>\n",
       "      <td>622.000000</td>\n",
       "      <td>622.000000</td>\n",
       "      <td>622.000000</td>\n",
       "      <td>622.000000</td>\n",
       "      <td>622.000000</td>\n",
       "      <td>622.000000</td>\n",
       "      <td>6.220000e+02</td>\n",
       "    </tr>\n",
       "    <tr>\n",
       "      <th>mean</th>\n",
       "      <td>19.613834</td>\n",
       "      <td>17.149940</td>\n",
       "      <td>56.854325</td>\n",
       "      <td>72.200965</td>\n",
       "      <td>63.604502</td>\n",
       "      <td>11.186608</td>\n",
       "      <td>1.650935e+09</td>\n",
       "    </tr>\n",
       "    <tr>\n",
       "      <th>std</th>\n",
       "      <td>36.431665</td>\n",
       "      <td>95.931785</td>\n",
       "      <td>27.690264</td>\n",
       "      <td>20.440396</td>\n",
       "      <td>38.752377</td>\n",
       "      <td>7.990993</td>\n",
       "      <td>2.275829e+04</td>\n",
       "    </tr>\n",
       "    <tr>\n",
       "      <th>min</th>\n",
       "      <td>-86.553592</td>\n",
       "      <td>-177.901330</td>\n",
       "      <td>-69.740000</td>\n",
       "      <td>6.000000</td>\n",
       "      <td>0.000000</td>\n",
       "      <td>0.000000</td>\n",
       "      <td>1.650885e+09</td>\n",
       "    </tr>\n",
       "    <tr>\n",
       "      <th>25%</th>\n",
       "      <td>-9.055686</td>\n",
       "      <td>-64.772622</td>\n",
       "      <td>39.560000</td>\n",
       "      <td>66.000000</td>\n",
       "      <td>22.000000</td>\n",
       "      <td>4.940000</td>\n",
       "      <td>1.650915e+09</td>\n",
       "    </tr>\n",
       "    <tr>\n",
       "      <th>50%</th>\n",
       "      <td>21.864815</td>\n",
       "      <td>26.945681</td>\n",
       "      <td>64.760000</td>\n",
       "      <td>76.000000</td>\n",
       "      <td>81.500000</td>\n",
       "      <td>9.400000</td>\n",
       "      <td>1.650936e+09</td>\n",
       "    </tr>\n",
       "    <tr>\n",
       "      <th>75%</th>\n",
       "      <td>48.697663</td>\n",
       "      <td>99.299355</td>\n",
       "      <td>80.100000</td>\n",
       "      <td>86.000000</td>\n",
       "      <td>99.000000</td>\n",
       "      <td>15.745000</td>\n",
       "      <td>1.650954e+09</td>\n",
       "    </tr>\n",
       "    <tr>\n",
       "      <th>max</th>\n",
       "      <td>89.980436</td>\n",
       "      <td>179.539658</td>\n",
       "      <td>94.910000</td>\n",
       "      <td>100.000000</td>\n",
       "      <td>100.000000</td>\n",
       "      <td>62.210000</td>\n",
       "      <td>1.650976e+09</td>\n",
       "    </tr>\n",
       "  </tbody>\n",
       "</table>\n",
       "</div>"
      ],
      "text/plain": [
       "              Lat         Lng    Max Temp    Humidity  Cloudliness  \\\n",
       "count  622.000000  622.000000  622.000000  622.000000   622.000000   \n",
       "mean    19.613834   17.149940   56.854325   72.200965    63.604502   \n",
       "std     36.431665   95.931785   27.690264   20.440396    38.752377   \n",
       "min    -86.553592 -177.901330  -69.740000    6.000000     0.000000   \n",
       "25%     -9.055686  -64.772622   39.560000   66.000000    22.000000   \n",
       "50%     21.864815   26.945681   64.760000   76.000000    81.500000   \n",
       "75%     48.697663   99.299355   80.100000   86.000000    99.000000   \n",
       "max     89.980436  179.539658   94.910000  100.000000   100.000000   \n",
       "\n",
       "       Wind Speed          Date  \n",
       "count  622.000000  6.220000e+02  \n",
       "mean    11.186608  1.650935e+09  \n",
       "std      7.990993  2.275829e+04  \n",
       "min      0.000000  1.650885e+09  \n",
       "25%      4.940000  1.650915e+09  \n",
       "50%      9.400000  1.650936e+09  \n",
       "75%     15.745000  1.650954e+09  \n",
       "max     62.210000  1.650976e+09  "
      ]
     },
     "execution_count": 240,
     "metadata": {},
     "output_type": "execute_result"
    }
   ],
   "source": [
    "#Describe the table of weather data \n",
    "cities_weather.describe()"
   ]
  },
  {
   "cell_type": "markdown",
   "metadata": {},
   "source": [
    "## Inspect the data and remove the cities where the humidity > 100%.\n",
    "----\n",
    "Skip this step if there are no cities that have humidity > 100%. "
   ]
  },
  {
   "cell_type": "code",
   "execution_count": 241,
   "metadata": {},
   "outputs": [],
   "source": [
    "# Select cities with humidity less than or equal to 100\n",
    "cities_weather = cities_weather[cities_weather[\"Humidity\"] <= 100]"
   ]
  },
  {
   "cell_type": "code",
   "execution_count": 242,
   "metadata": {},
   "outputs": [],
   "source": [
    "#  Get the indices of cities that have humidity over 100%.\n"
   ]
  },
  {
   "cell_type": "code",
   "execution_count": 243,
   "metadata": {},
   "outputs": [],
   "source": [
    "# Make a new DataFrame equal to the city data to drop all humidity outliers by index.\n",
    "# Passing \"inplace=False\" will make a copy of the city_data DataFrame, which we call \"clean_city_data\".\n"
   ]
  },
  {
   "cell_type": "code",
   "execution_count": null,
   "metadata": {},
   "outputs": [],
   "source": [
    "\n"
   ]
  },
  {
   "cell_type": "markdown",
   "metadata": {},
   "source": [
    "## Plotting the Data\n",
    "* Use proper labeling of the plots using plot titles (including date of analysis) and axes labels.\n",
    "* Save the plotted figures as .pngs."
   ]
  },
  {
   "cell_type": "markdown",
   "metadata": {},
   "source": [
    "## Latitude vs. Temperature Plot"
   ]
  },
  {
   "cell_type": "code",
   "execution_count": 249,
   "metadata": {
    "scrolled": true
   },
   "outputs": [
    {
     "data": {
      "image/png": "[encoded data removed]",
      "text/plain": [
       "<Figure size 432x288 with 1 Axes>"
      ]
     },
     "metadata": {
      "needs_background": "light"
     },
     "output_type": "display_data"
    }
   ],
   "source": [
    "# Select specified data\n",
    "latitudes = cities_weather[\"Lat\"]\n",
    "temperature_plot = cities_weather[\"Max Temp\"]\n",
    "\n",
    "#Create plot\n",
    "plt.scatter(latitudes, temperature_plot, marker=\"o\", facecolors=\"red\", edgecolors=\"black\")\n",
    "\n",
    "# Create a title, x label, and y label for our chart\n",
    "plt.title(\"Latitude vs. Temperature Plot\")\n",
    "plt.xlabel(\"Latitude\")\n",
    "plt.ylabel(\"Temperature Plot\")\n",
    "\n",
    "plt.show()"
   ]
  },
  {
   "cell_type": "markdown",
   "metadata": {},
   "source": [
    "## Latitude vs. Humidity Plot"
   ]
  },
  {
   "cell_type": "code",
   "execution_count": 247,
   "metadata": {},
   "outputs": [
    {
     "data": {
      "image/png": "[encoded data removed]",
      "text/plain": [
       "<Figure size 432x288 with 1 Axes>"
      ]
     },
     "metadata": {
      "needs_background": "light"
     },
     "output_type": "display_data"
    }
   ],
   "source": [
    "# Select specified data\n",
    "latitudes = cities_weather[\"Lat\"]\n",
    "humidity = cities_weather[\"Humidity\"]\n",
    "\n",
    "#Create plot\n",
    "plt.scatter(latitudes, humidity, marker=\"o\", facecolors=\"red\", edgecolors=\"black\")\n",
    "\n",
    "# Create a title, x label, and y label for our chart\n",
    "plt.title(\"Latitude vs. Humidity Plot\")\n",
    "plt.xlabel(\"Latitude\")\n",
    "plt.ylabel(\"Humidity\")\n",
    "\n",
    "plt.show()"
   ]
  },
  {
   "cell_type": "markdown",
   "metadata": {},
   "source": [
    "## Latitude vs. Cloudiness Plot"
   ]
  },
  {
   "cell_type": "code",
   "execution_count": 250,
   "metadata": {},
   "outputs": [
    {
     "data": {
      "image/png": "[encoded data removed]",
      "text/plain": [
       "<Figure size 432x288 with 1 Axes>"
      ]
     },
     "metadata": {
      "needs_background": "light"
     },
     "output_type": "display_data"
    }
   ],
   "source": [
    "# Select specified data\n",
    "latitudes = cities_weather[\"Lat\"]\n",
    "cloudliness = cities_weather[\"Cloudliness\"]\n",
    "\n",
    "#Create plot\n",
    "plt.scatter(latitudes, cloudliness, marker=\"o\", facecolors=\"red\", edgecolors=\"black\")\n",
    "\n",
    "# Create a title, x label, and y label for our chart\n",
    "plt.title(\"Latitude vs. Cloudliness Plot\")\n",
    "plt.xlabel(\"Latitude\")\n",
    "plt.ylabel(\"Cloudliness\")\n",
    "\n",
    "plt.show()"
   ]
  },
  {
   "cell_type": "markdown",
   "metadata": {},
   "source": [
    "## Latitude vs. Wind Speed Plot"
   ]
  },
  {
   "cell_type": "code",
   "execution_count": 251,
   "metadata": {},
   "outputs": [
    {
     "data": {
      "image/png": "[encoded data removed]",
      "text/plain": [
       "<Figure size 432x288 with 1 Axes>"
      ]
     },
     "metadata": {
      "needs_background": "light"
     },
     "output_type": "display_data"
    }
   ],
   "source": [
    "# Select specified data\n",
    "latitudes = cities_weather[\"Lat\"]\n",
    "wind_speed = cities_weather[\"Wind Speed\"]\n",
    "\n",
    "#Create plot\n",
    "plt.scatter(latitudes, wind_speed, marker=\"o\", facecolors=\"red\", edgecolors=\"black\")\n",
    "\n",
    "# Create a title, x label, and y label for our chart\n",
    "plt.title(\"Latitude vs. Wind Speed Plot\")\n",
    "plt.xlabel(\"Latitude\")\n",
    "plt.ylabel(\"Wind Speed\")\n",
    "\n",
    "plt.show()"
   ]
  },
  {
   "cell_type": "markdown",
   "metadata": {},
   "source": [
    "## Linear Regression"
   ]
  },
  {
   "cell_type": "code",
   "execution_count": 252,
   "metadata": {},
   "outputs": [],
   "source": [
    "# Import scipy for linear regression calculations\n",
    "import scipy.stats as st\n",
    "from scipy import stats\n"
   ]
  },
  {
   "cell_type": "markdown",
   "metadata": {},
   "source": [
    "####  Northern Hemisphere - Max Temp vs. Latitude Linear Regression"
   ]
  },
  {
   "cell_type": "code",
   "execution_count": 253,
   "metadata": {},
   "outputs": [
    {
     "name": "stdout",
     "output_type": "stream",
     "text": [
      "The r-value is -0.3707416050387589\n"
     ]
    },
    {
     "data": {
      "image/png": "[encoded data removed]",
      "text/plain": [
       "<Figure size 432x288 with 1 Axes>"
      ]
     },
     "metadata": {
      "needs_background": "light"
     },
     "output_type": "display_data"
    }
   ],
   "source": [
    "# Select specified data from cities in the Northern Hemisphere\n",
    "nh_cities = cities_weather[cities_weather[\"Lng\"] >= 0]\n",
    "latitudes = nh_cities[\"Lat\"]\n",
    "temperature_plot = nh_cities[\"Max Temp\"]\n",
    "\n",
    "#Calculate linear regression\n",
    "cities_slope, cities_int, cities_r, cities_p, cities_std_err = stats.linregress(latitudes, temperature_plot)\n",
    "cities_fit = cities_slope * latitudes + cities_int\n",
    "\n",
    "#Plot the data\n",
    "plt.scatter(latitudes, temperature_plot, marker=\"o\", facecolors=\"red\", edgecolors=\"black\")\n",
    "plt.plot(latitudes,cities_fit,\"--\")\n",
    "\n",
    "# Create a title, x label, and y label for our chart\n",
    "plt.title(\"Northern Hemisphere - Max Temp vs. Latitude\")\n",
    "plt.xlabel(\"Latitude\")\n",
    "plt.ylabel(\"Max Temp\")\n",
    "\n",
    "# Display the r value\n",
    "print(\"The r-value is \" + str(cities_r))\n",
    "\n",
    "plt.show()\n"
   ]
  },
  {
   "cell_type": "markdown",
   "metadata": {},
   "source": [
    "####  Southern Hemisphere - Max Temp vs. Latitude Linear Regression"
   ]
  },
  {
   "cell_type": "code",
   "execution_count": 255,
   "metadata": {},
   "outputs": [
    {
     "name": "stdout",
     "output_type": "stream",
     "text": [
      "The r-value is -0.4400664389424855\n"
     ]
    },
    {
     "data": {
      "image/png": "[encoded data removed]",
      "text/plain": [
       "<Figure size 432x288 with 1 Axes>"
      ]
     },
     "metadata": {
      "needs_background": "light"
     },
     "output_type": "display_data"
    }
   ],
   "source": [
    "# Select specified data from cities in the Southern Hemisphere\n",
    "sh_cities = cities_weather[cities_weather[\"Lng\"] <= 0]\n",
    "latitudes = sh_cities[\"Lat\"]\n",
    "temperature_plot = sh_cities[\"Max Temp\"]\n",
    "\n",
    "#Calculate linear regression\n",
    "cities_slope, cities_int, cities_r, cities_p, cities_std_err = stats.linregress(latitudes, temperature_plot)\n",
    "cities_fit = cities_slope * latitudes + cities_int\n",
    "\n",
    "#Plot the data\n",
    "plt.scatter(latitudes, temperature_plot, marker=\"o\", facecolors=\"red\", edgecolors=\"black\")\n",
    "plt.plot(latitudes,cities_fit,\"--\")\n",
    "\n",
    "# Create a title, x label, and y label for our chart\n",
    "plt.title(\"Southern Hemisphere - Max Temp vs. Latitude\")\n",
    "plt.xlabel(\"Latitude\")\n",
    "plt.ylabel(\"Max Temp\")\n",
    "\n",
    "# Display the r value\n",
    "print(\"The r-value is \" + str(cities_r))\n",
    "\n",
    "plt.show()"
   ]
  },
  {
   "cell_type": "markdown",
   "metadata": {},
   "source": [
    "####  Northern Hemisphere - Humidity (%) vs. Latitude Linear Regression"
   ]
  },
  {
   "cell_type": "code",
   "execution_count": 256,
   "metadata": {},
   "outputs": [
    {
     "name": "stdout",
     "output_type": "stream",
     "text": [
      "The r-value is 0.09631235905376981\n"
     ]
    },
    {
     "data": {
      "image/png": "[encoded data removed]",
      "text/plain": [
       "<Figure size 432x288 with 1 Axes>"
      ]
     },
     "metadata": {
      "needs_background": "light"
     },
     "output_type": "display_data"
    }
   ],
   "source": [
    "# Select specified data\n",
    "latitudes = nh_cities[\"Lat\"]\n",
    "humidities = nh_cities[\"Humidity\"]\n",
    "\n",
    "#Calculate linear regression\n",
    "cities_slope, cities_int, cities_r, cities_p, cities_std_err = stats.linregress(latitudes, humidities)\n",
    "cities_fit = cities_slope * latitudes + cities_int\n",
    "\n",
    "#Plot the data\n",
    "plt.scatter(latitudes, humidities, marker=\"o\", facecolors=\"red\", edgecolors=\"black\")\n",
    "plt.plot(latitudes,cities_fit,\"--\")\n",
    "\n",
    "# Create a title, x label, and y label for our chart\n",
    "plt.title(\"Northern Hemisphere - Humidity vs. Latitude\")\n",
    "plt.xlabel(\"Latitude\")\n",
    "plt.ylabel(\"Humidities\")\n",
    "\n",
    "# Display the r value\n",
    "print(\"The r-value is \" + str(cities_r))\n",
    "\n",
    "plt.show()"
   ]
  },
  {
   "cell_type": "markdown",
   "metadata": {},
   "source": [
    "####  Southern Hemisphere - Humidity (%) vs. Latitude Linear Regression"
   ]
  },
  {
   "cell_type": "code",
   "execution_count": 257,
   "metadata": {},
   "outputs": [
    {
     "name": "stdout",
     "output_type": "stream",
     "text": [
      "The r-value is 0.03847524817242652\n"
     ]
    },
    {
     "data": {
      "image/png": "[encoded data removed]",
      "text/plain": [
       "<Figure size 432x288 with 1 Axes>"
      ]
     },
     "metadata": {
      "needs_background": "light"
     },
     "output_type": "display_data"
    }
   ],
   "source": [
    "# Select specified data\n",
    "latitudes = sh_cities[\"Lat\"]\n",
    "humidities = sh_cities[\"Humidity\"]\n",
    "\n",
    "#Calculate linear regression\n",
    "cities_slope, cities_int, cities_r, cities_p, cities_std_err = stats.linregress(latitudes, humidities)\n",
    "cities_fit = cities_slope * latitudes + cities_int\n",
    "\n",
    "#Plot the data\n",
    "plt.scatter(latitudes, humidities, marker=\"o\", facecolors=\"red\", edgecolors=\"black\")\n",
    "plt.plot(latitudes,cities_fit,\"--\")\n",
    "\n",
    "# Create a title, x label, and y label for our chart\n",
    "plt.title(\"Southern Hemisphere - Humidity vs. Latitude\")\n",
    "plt.xlabel(\"Latitude\")\n",
    "plt.ylabel(\"Humidities\")\n",
    "\n",
    "# Display the r value\n",
    "print(\"The r-value is \" + str(cities_r))\n",
    "\n",
    "plt.show()"
   ]
  },
  {
   "cell_type": "markdown",
   "metadata": {},
   "source": [
    "####  Northern Hemisphere - Cloudiness (%) vs. Latitude Linear Regression"
   ]
  },
  {
   "cell_type": "code",
   "execution_count": 258,
   "metadata": {},
   "outputs": [
    {
     "name": "stdout",
     "output_type": "stream",
     "text": [
      "The r-value is 0.05459852387210211\n"
     ]
    },
    {
     "data": {
      "image/png": "[encoded data removed]",
      "text/plain": [
       "<Figure size 432x288 with 1 Axes>"
      ]
     },
     "metadata": {
      "needs_background": "light"
     },
     "output_type": "display_data"
    }
   ],
   "source": [
    "# Select specified data\n",
    "latitudes = nh_cities[\"Lat\"]\n",
    "cloudliness = nh_cities[\"Cloudliness\"]\n",
    "\n",
    "#Calculate linear regression\n",
    "cities_slope, cities_int, cities_r, cities_p, cities_std_err = stats.linregress(latitudes, cloudliness)\n",
    "cities_fit = cities_slope * latitudes + cities_int\n",
    "\n",
    "#Plot the data\n",
    "plt.scatter(latitudes, cloudliness, marker=\"o\", facecolors=\"red\", edgecolors=\"black\")\n",
    "plt.plot(latitudes,cities_fit,\"--\")\n",
    "\n",
    "# Create a title, x label, and y label for our chart\n",
    "plt.title(\"Northern Hemisphere - Max Temp vs. Latitude\")\n",
    "plt.xlabel(\"Latitude\")\n",
    "plt.ylabel(\"Cloudliness\")\n",
    "\n",
    "# Display the r value\n",
    "print(\"The r-value is \" + str(cities_r))\n",
    "\n",
    "plt.show()"
   ]
  },
  {
   "cell_type": "markdown",
   "metadata": {},
   "source": [
    "####  Southern Hemisphere - Cloudiness (%) vs. Latitude Linear Regression"
   ]
  },
  {
   "cell_type": "code",
   "execution_count": 259,
   "metadata": {},
   "outputs": [
    {
     "name": "stdout",
     "output_type": "stream",
     "text": [
      "The r-value is 0.14940162688041864\n"
     ]
    },
    {
     "data": {
      "image/png": "[encoded data removed]",
      "text/plain": [
       "<Figure size 432x288 with 1 Axes>"
      ]
     },
     "metadata": {
      "needs_background": "light"
     },
     "output_type": "display_data"
    }
   ],
   "source": [
    "# Select specified data\n",
    "latitudes = sh_cities[\"Lat\"]\n",
    "cloudliness = sh_cities[\"Cloudliness\"]\n",
    "\n",
    "#Calculate linear regression\n",
    "cities_slope, cities_int, cities_r, cities_p, cities_std_err = stats.linregress(latitudes, cloudliness)\n",
    "cities_fit = cities_slope * latitudes + cities_int\n",
    "\n",
    "#Plot the data\n",
    "plt.scatter(latitudes, cloudliness, marker=\"o\", facecolors=\"red\", edgecolors=\"black\")\n",
    "plt.plot(latitudes,cities_fit,\"--\")\n",
    "\n",
    "# Create a title, x label, and y label for our chart\n",
    "plt.title(\"Southern Hemisphere - Max Temp vs. Latitude\")\n",
    "plt.xlabel(\"Latitude\")\n",
    "plt.ylabel(\"Cloudliness\")\n",
    "\n",
    "# Display the r value\n",
    "print(\"The r-value is \" + str(cities_r))\n",
    "\n",
    "plt.show()"
   ]
  },
  {
   "cell_type": "markdown",
   "metadata": {},
   "source": [
    "####  Northern Hemisphere - Wind Speed (mph) vs. Latitude Linear Regression"
   ]
  },
  {
   "cell_type": "code",
   "execution_count": 260,
   "metadata": {},
   "outputs": [
    {
     "name": "stdout",
     "output_type": "stream",
     "text": [
      "The r-value is -0.20415494017459773\n"
     ]
    },
    {
     "data": {
      "image/png": "[encoded data removed]",
      "text/plain": [
       "<Figure size 432x288 with 1 Axes>"
      ]
     },
     "metadata": {
      "needs_background": "light"
     },
     "output_type": "display_data"
    }
   ],
   "source": [
    "# Select specified data\n",
    "latitudes = nh_cities[\"Lat\"]\n",
    "wind_speed = nh_cities[\"Wind Speed\"]\n",
    "\n",
    "#Calculate linear regression\n",
    "cities_slope, cities_int, cities_r, cities_p, cities_std_err = stats.linregress(latitudes, wind_speed)\n",
    "cities_fit = cities_slope * latitudes + cities_int\n",
    "\n",
    "#Plot the data\n",
    "plt.scatter(latitudes, wind_speed, marker=\"o\", facecolors=\"red\", edgecolors=\"black\")\n",
    "plt.plot(latitudes,cities_fit,\"--\")\n",
    "\n",
    "# Create a title, x label, and y label for our chart\n",
    "plt.title(\"Northern Hemisphere - Wind Speed vs. Latitude\")\n",
    "plt.xlabel(\"Latitude\")\n",
    "plt.ylabel(\"Wind Speed\")\n",
    "\n",
    "# Display the r value\n",
    "print(\"The r-value is \" + str(cities_r))\n",
    "\n",
    "plt.show()"
   ]
  },
  {
   "cell_type": "markdown",
   "metadata": {},
   "source": [
    "####  Southern Hemisphere - Wind Speed (mph) vs. Latitude Linear Regression"
   ]
  },
  {
   "cell_type": "code",
   "execution_count": 261,
   "metadata": {},
   "outputs": [
    {
     "name": "stdout",
     "output_type": "stream",
     "text": [
      "The r-value is -0.11706739051011805\n"
     ]
    },
    {
     "data": {
      "image/png": "[encoded data removed]",
      "text/plain": [
       "<Figure size 432x288 with 1 Axes>"
      ]
     },
     "metadata": {
      "needs_background": "light"
     },
     "output_type": "display_data"
    }
   ],
   "source": [
    "# Select specified data\n",
    "latitudes = sh_cities[\"Lat\"]\n",
    "wind_speed = sh_cities[\"Wind Speed\"]\n",
    "\n",
    "#Calculate linear regression\n",
    "cities_slope, cities_int, cities_r, cities_p, cities_std_err = stats.linregress(latitudes, wind_speed)\n",
    "cities_fit = cities_slope * latitudes + cities_int\n",
    "\n",
    "#Plot the data\n",
    "plt.scatter(latitudes, wind_speed, marker=\"o\", facecolors=\"red\", edgecolors=\"black\")\n",
    "plt.plot(latitudes,cities_fit,\"--\")\n",
    "\n",
    "# Create a title, x label, and y label for our chart\n",
    "plt.title(\"Southern Hemisphere - Wind Speed vs. Latitude\")\n",
    "plt.xlabel(\"Latitude\")\n",
    "plt.ylabel(\"Wind Speed\")\n",
    "\n",
    "# Display the r value\n",
    "print(\"The r-value is \" + str(cities_r))\n",
    "\n",
    "plt.show()"
   ]
  }
 ],
 "metadata": {
  "anaconda-cloud": {},
  "kernel_info": {
   "name": "python3"
  },
  "kernelspec": {
   "display_name": "Python 3 (ipykernel)",
   "language": "python",
   "name": "python3"
  },
  "language_info": {
   "codemirror_mode": {
    "name": "ipython",
    "version": 3
   },
   "file_extension": ".py",
   "mimetype": "text/x-python",
   "name": "python",
   "nbconvert_exporter": "python",
   "pygments_lexer": "ipython3",
   "version": "3.9.7"
  },
  "latex_envs": {
   "LaTeX_envs_menu_present": true,
   "autoclose": false,
   "autocomplete": true,
   "bibliofile": "biblio.bib",
   "cite_by": "apalike",
   "current_citInitial": 1,
   "eqLabelWithNumbers": true,
   "eqNumInitial": 1,
   "hotkeys": {
    "equation": "Ctrl-E",
    "itemize": "Ctrl-I"
   },
   "labels_anchors": false,
   "latex_user_defs": false,
   "report_style_numbering": false,
   "user_envs_cfg": false
  },
  "nteract": {
   "version": "0.12.3"
  }
 },
 "nbformat": 4,
 "nbformat_minor": 2
}
